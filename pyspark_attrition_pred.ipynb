{
 "cells": [
  {
   "cell_type": "markdown",
   "metadata": {},
   "source": [
    "### Environment Setup"
   ]
  },
  {
   "cell_type": "markdown",
   "metadata": {},
   "source": [
    "We run this if using on Windows machine.\n",
    "This will set the environment variables for PySpark to use the correct Python executable."
   ]
  },
  {
   "cell_type": "code",
   "execution_count": 1,
   "metadata": {},
   "outputs": [],
   "source": [
    "import os\n",
    "import sys\n",
    "\n",
    "os.environ['PYSPARK_PYTHON'] = sys.executable\n",
    "os.environ['PYSPARK_DRIVER_PYTHON'] = sys.executable"
   ]
  },
  {
   "cell_type": "markdown",
   "metadata": {},
   "source": [
    "### Build Spark Session"
   ]
  },
  {
   "cell_type": "code",
   "execution_count": 2,
   "metadata": {},
   "outputs": [
    {
     "data": {
      "text/html": [
       "\n",
       "            <div>\n",
       "                <p><b>SparkSession - in-memory</b></p>\n",
       "                \n",
       "        <div>\n",
       "            <p><b>SparkContext</b></p>\n",
       "\n",
       "            <p><a href=\"http://DESKTOP-PF8V8JU:4040\">Spark UI</a></p>\n",
       "\n",
       "            <dl>\n",
       "              <dt>Version</dt>\n",
       "                <dd><code>v3.5.1</code></dd>\n",
       "              <dt>Master</dt>\n",
       "                <dd><code>local[1]</code></dd>\n",
       "              <dt>AppName</dt>\n",
       "                <dd><code>Attrition Prediction</code></dd>\n",
       "            </dl>\n",
       "        </div>\n",
       "        \n",
       "            </div>\n",
       "        "
      ],
      "text/plain": [
       "<pyspark.sql.session.SparkSession at 0x217b39e1d10>"
      ]
     },
     "execution_count": 2,
     "metadata": {},
     "output_type": "execute_result"
    }
   ],
   "source": [
    "from pyspark.sql import SparkSession\n",
    "\n",
    "# Initialize Spark Session\n",
    "spark = SparkSession.builder \\\n",
    "    .master(\"local[1]\") \\\n",
    "    .config(\"spark.rpc.askTimeout\", \"600s\") \\\n",
    "    .config(\"spark.driver.network.timeout\", \"600s\") \\\n",
    "    .config(\"spark.network.timeout\", \"600s\") \\\n",
    "    .appName(\"Attrition Prediction\") \\\n",
    "    .getOrCreate()\n",
    "\n",
    "spark"
   ]
  },
  {
   "cell_type": "markdown",
   "metadata": {},
   "source": [
    "### Data Load"
   ]
  },
  {
   "cell_type": "code",
   "execution_count": 3,
   "metadata": {},
   "outputs": [],
   "source": [
    "url_train_data = 'data/train.csv'\n",
    "url_test_data = 'data/test.csv'\n",
    "\n",
    "raw_train_df = spark.read.format(\"csv\") \\\n",
    "    .option(\"header\", \"true\") \\\n",
    "    .option(\"inferSchema\", \"true\") \\\n",
    "    .load(url_train_data)\n",
    "\n",
    "raw_test_df = spark.read.format(\"csv\") \\\n",
    "    .option(\"header\", \"true\") \\\n",
    "    .option(\"inferSchema\", \"true\") \\\n",
    "    .load(url_test_data)"
   ]
  },
  {
   "cell_type": "markdown",
   "metadata": {},
   "source": [
    "### Dataset Exploration"
   ]
  },
  {
   "cell_type": "code",
   "execution_count": 4,
   "metadata": {},
   "outputs": [
    {
     "name": "stdout",
     "output_type": "stream",
     "text": [
      "root\n",
      " |-- Employee ID: integer (nullable = true)\n",
      " |-- Age: integer (nullable = true)\n",
      " |-- Gender: string (nullable = true)\n",
      " |-- Years at Company: integer (nullable = true)\n",
      " |-- Job Role: string (nullable = true)\n",
      " |-- Monthly Income: integer (nullable = true)\n",
      " |-- Work-Life Balance: string (nullable = true)\n",
      " |-- Job Satisfaction: string (nullable = true)\n",
      " |-- Performance Rating: string (nullable = true)\n",
      " |-- Number of Promotions: integer (nullable = true)\n",
      " |-- Overtime: string (nullable = true)\n",
      " |-- Distance from Home: integer (nullable = true)\n",
      " |-- Education Level: string (nullable = true)\n",
      " |-- Marital Status: string (nullable = true)\n",
      " |-- Number of Dependents: integer (nullable = true)\n",
      " |-- Job Level: string (nullable = true)\n",
      " |-- Company Size: string (nullable = true)\n",
      " |-- Company Tenure: integer (nullable = true)\n",
      " |-- Remote Work: string (nullable = true)\n",
      " |-- Leadership Opportunities: string (nullable = true)\n",
      " |-- Innovation Opportunities: string (nullable = true)\n",
      " |-- Company Reputation: string (nullable = true)\n",
      " |-- Employee Recognition: string (nullable = true)\n",
      " |-- Attrition: string (nullable = true)\n",
      "\n"
     ]
    }
   ],
   "source": [
    "# Total features (columns) of our dataset\n",
    "raw_train_df.printSchema()"
   ]
  },
  {
   "cell_type": "code",
   "execution_count": 5,
   "metadata": {},
   "outputs": [
    {
     "name": "stdout",
     "output_type": "stream",
     "text": [
      "Train dataset count: 59598\n",
      "Test dataset count: 14900\n",
      "Total dataset count: 74498\n"
     ]
    }
   ],
   "source": [
    "# Total records (rows) of our dataset\n",
    "print(\"Train dataset count:\", raw_train_df.count())\n",
    "print(\"Test dataset count:\", raw_test_df.count())\n",
    "print(\"Total dataset count:\", raw_train_df.count() + raw_test_df.count())"
   ]
  },
  {
   "cell_type": "code",
   "execution_count": 6,
   "metadata": {},
   "outputs": [
    {
     "name": "stdout",
     "output_type": "stream",
     "text": [
      "+-----------+---+------+----------------+----------+--------------+-----------------+----------------+------------------+--------------------+--------+------------------+-----------------+--------------+--------------------+---------+------------+--------------+-----------+------------------------+------------------------+------------------+--------------------+---------+\n",
      "|Employee ID|Age|Gender|Years at Company|  Job Role|Monthly Income|Work-Life Balance|Job Satisfaction|Performance Rating|Number of Promotions|Overtime|Distance from Home|  Education Level|Marital Status|Number of Dependents|Job Level|Company Size|Company Tenure|Remote Work|Leadership Opportunities|Innovation Opportunities|Company Reputation|Employee Recognition|Attrition|\n",
      "+-----------+---+------+----------------+----------+--------------+-----------------+----------------+------------------+--------------------+--------+------------------+-----------------+--------------+--------------------+---------+------------+--------------+-----------+------------------------+------------------------+------------------+--------------------+---------+\n",
      "|       8410| 31|  Male|              19| Education|          5390|        Excellent|          Medium|           Average|                   2|      No|                22| Associate Degree|       Married|                   0|      Mid|      Medium|            89|         No|                      No|                      No|         Excellent|              Medium|   Stayed|\n",
      "|      64756| 59|Female|               4|     Media|          5534|             Poor|            High|               Low|                   3|      No|                21|  Master’s Degree|      Divorced|                   3|      Mid|      Medium|            21|         No|                      No|                      No|              Fair|                 Low|   Stayed|\n",
      "|      30257| 24|Female|              10|Healthcare|          8159|             Good|            High|               Low|                   0|      No|                11|Bachelor’s Degree|       Married|                   3|      Mid|      Medium|            74|         No|                      No|                      No|              Poor|                 Low|   Stayed|\n",
      "|      65791| 36|Female|               7| Education|          3989|             Good|            High|              High|                   1|      No|                27|      High School|        Single|                   2|      Mid|       Small|            50|        Yes|                      No|                      No|              Good|              Medium|   Stayed|\n",
      "|      65026| 56|  Male|              41| Education|          4821|             Fair|       Very High|           Average|                   0|     Yes|                71|      High School|      Divorced|                   0|   Senior|      Medium|            68|         No|                      No|                      No|              Fair|              Medium|   Stayed|\n",
      "|      24368| 38|Female|               3|Technology|          9977|             Fair|            High|     Below Average|                   3|      No|                37|Bachelor’s Degree|       Married|                   0|      Mid|      Medium|            47|         No|                      No|                     Yes|              Fair|                High|     Left|\n",
      "|      64970| 47|  Male|              23| Education|          3681|             Fair|            High|              High|                   1|     Yes|                75|      High School|      Divorced|                   3|    Entry|       Small|            93|         No|                      No|                      No|              Good|              Medium|     Left|\n",
      "|      36999| 48|  Male|              16|   Finance|         11223|        Excellent|       Very High|              High|                   2|      No|                 5|  Master’s Degree|       Married|                   4|    Entry|      Medium|            88|         No|                      No|                      No|         Excellent|                 Low|   Stayed|\n",
      "|      32714| 57|  Male|              44| Education|          3773|             Good|          Medium|              High|                   1|     Yes|                39|      High School|       Married|                   4|    Entry|      Medium|            75|         No|                      No|                      No|              Fair|              Medium|   Stayed|\n",
      "|      15944| 24|Female|               1|Healthcare|          7319|             Poor|            High|           Average|                   1|     Yes|                57|              PhD|        Single|                   4|    Entry|       Large|            45|         No|                      No|                     Yes|              Good|                 Low|     Left|\n",
      "+-----------+---+------+----------------+----------+--------------+-----------------+----------------+------------------+--------------------+--------+------------------+-----------------+--------------+--------------------+---------+------------+--------------+-----------+------------------------+------------------------+------------------+--------------------+---------+\n",
      "only showing top 10 rows\n",
      "\n"
     ]
    }
   ],
   "source": [
    "# Show the top 5 rows to see what kind of data we have and if we'll need to prepare it before building the model\n",
    "raw_train_df.show(10)"
   ]
  },
  {
   "cell_type": "code",
   "execution_count": 7,
   "metadata": {},
   "outputs": [
    {
     "name": "stdout",
     "output_type": "stream",
     "text": [
      "+----------------------+--------------+-----------------+---------------------------+-------------------+-------------------------+----------------------------+---------------------------+-----------------------------+-------------------------------+-------------------+-----------------------------+--------------------------+-------------------------+-------------------------------+--------------------+-----------------------+-------------------------+----------------------+-----------------------------------+-----------------------------------+-----------------------------+-------------------------------+--------------------+\n",
      "|Employee ID_null_count|Age_null_count|Gender_null_count|Years at Company_null_count|Job Role_null_count|Monthly Income_null_count|Work-Life Balance_null_count|Job Satisfaction_null_count|Performance Rating_null_count|Number of Promotions_null_count|Overtime_null_count|Distance from Home_null_count|Education Level_null_count|Marital Status_null_count|Number of Dependents_null_count|Job Level_null_count|Company Size_null_count|Company Tenure_null_count|Remote Work_null_count|Leadership Opportunities_null_count|Innovation Opportunities_null_count|Company Reputation_null_count|Employee Recognition_null_count|Attrition_null_count|\n",
      "+----------------------+--------------+-----------------+---------------------------+-------------------+-------------------------+----------------------------+---------------------------+-----------------------------+-------------------------------+-------------------+-----------------------------+--------------------------+-------------------------+-------------------------------+--------------------+-----------------------+-------------------------+----------------------+-----------------------------------+-----------------------------------+-----------------------------+-------------------------------+--------------------+\n",
      "|                     0|             0|                0|                          0|                  0|                        0|                           0|                          0|                            0|                              0|                  0|                            0|                         0|                        0|                              0|                   0|                      0|                        0|                     0|                                  0|                                  0|                            0|                              0|                   0|\n",
      "+----------------------+--------------+-----------------+---------------------------+-------------------+-------------------------+----------------------------+---------------------------+-----------------------------+-------------------------------+-------------------+-----------------------------+--------------------------+-------------------------+-------------------------------+--------------------+-----------------------+-------------------------+----------------------+-----------------------------------+-----------------------------------+-----------------------------+-------------------------------+--------------------+\n",
      "\n"
     ]
    }
   ],
   "source": [
    "from pyspark.sql.functions import col\n",
    "from pyspark.sql.functions import col, sum as _sum\n",
    "\n",
    "# Count null values in each column of the train dataset\n",
    "null_counts = raw_train_df.select(\n",
    "    [_sum(col(c).isNull().cast(\"int\")).alias(c + \"_null_count\") for c in raw_train_df.columns]\n",
    ")\n",
    "\n",
    "# Show the result\n",
    "null_counts.show()"
   ]
  },
  {
   "cell_type": "code",
   "execution_count": 8,
   "metadata": {},
   "outputs": [
    {
     "name": "stdout",
     "output_type": "stream",
     "text": [
      "+----------------------+--------------+-----------------+---------------------------+-------------------+-------------------------+----------------------------+---------------------------+-----------------------------+-------------------------------+-------------------+-----------------------------+--------------------------+-------------------------+-------------------------------+--------------------+-----------------------+-------------------------+----------------------+-----------------------------------+-----------------------------------+-----------------------------+-------------------------------+--------------------+\n",
      "|Employee ID_null_count|Age_null_count|Gender_null_count|Years at Company_null_count|Job Role_null_count|Monthly Income_null_count|Work-Life Balance_null_count|Job Satisfaction_null_count|Performance Rating_null_count|Number of Promotions_null_count|Overtime_null_count|Distance from Home_null_count|Education Level_null_count|Marital Status_null_count|Number of Dependents_null_count|Job Level_null_count|Company Size_null_count|Company Tenure_null_count|Remote Work_null_count|Leadership Opportunities_null_count|Innovation Opportunities_null_count|Company Reputation_null_count|Employee Recognition_null_count|Attrition_null_count|\n",
      "+----------------------+--------------+-----------------+---------------------------+-------------------+-------------------------+----------------------------+---------------------------+-----------------------------+-------------------------------+-------------------+-----------------------------+--------------------------+-------------------------+-------------------------------+--------------------+-----------------------+-------------------------+----------------------+-----------------------------------+-----------------------------------+-----------------------------+-------------------------------+--------------------+\n",
      "|                     0|             0|                0|                          0|                  0|                        0|                           0|                          0|                            0|                              0|                  0|                            0|                         0|                        0|                              0|                   0|                      0|                        0|                     0|                                  0|                                  0|                            0|                              0|                   0|\n",
      "+----------------------+--------------+-----------------+---------------------------+-------------------+-------------------------+----------------------------+---------------------------+-----------------------------+-------------------------------+-------------------+-----------------------------+--------------------------+-------------------------+-------------------------------+--------------------+-----------------------+-------------------------+----------------------+-----------------------------------+-----------------------------------+-----------------------------+-------------------------------+--------------------+\n",
      "\n"
     ]
    }
   ],
   "source": [
    "# Count null values in each column of the test dataset\n",
    "null_counts = raw_test_df.select(\n",
    "    [_sum(col(c).isNull().cast(\"int\")).alias(c + \"_null_count\") for c in raw_test_df.columns]\n",
    ")\n",
    "\n",
    "# Show the result\n",
    "null_counts.show()"
   ]
  },
  {
   "cell_type": "markdown",
   "metadata": {},
   "source": [
    "### Dataset Preparation"
   ]
  },
  {
   "cell_type": "code",
   "execution_count": 9,
   "metadata": {},
   "outputs": [
    {
     "name": "stdout",
     "output_type": "stream",
     "text": [
      "+-----------+---+----------------+--------------+--------------------+------------------+--------------------+--------------+------+--------+-----------------+----------------+------------------+--------+---------------+--------------+---------+------------+-----------+------------------------+------------------------+------------------+--------------------+---------+--------------------+-------------------------+\n",
      "|Employee ID|Age|Years at Company|Monthly Income|Number of Promotions|Distance from Home|Number of Dependents|Company Tenure|Gender|Job Role|Work-Life Balance|Job Satisfaction|Performance Rating|Overtime|Education Level|Marital Status|Job Level|Company Size|Remote Work|Leadership Opportunities|Innovation Opportunities|Company Reputation|Employee Recognition|Attrition|  numerical_features|scaled_numerical_features|\n",
      "+-----------+---+----------------+--------------+--------------------+------------------+--------------------+--------------+------+--------+-----------------+----------------+------------------+--------+---------------+--------------+---------+------------+-----------+------------------------+------------------------+------------------+--------------------+---------+--------------------+-------------------------+\n",
      "|       8410| 31|              19|          5390|                   2|                22|                   0|            89|   0.0|     2.0|              2.0|             2.0|               0.0|     0.0|            1.0|           0.0|      1.0|         0.0|        0.0|                     0.0|                     0.0|               3.0|                 1.0|      0.0|[31.0,19.0,5390.0...|     [2.56629462745451...|\n",
      "|      64756| 59|               4|          5534|                   3|                21|                   3|            21|   1.0|     3.0|              3.0|             0.0|               3.0|     0.0|            2.0|           2.0|      1.0|         0.0|        0.0|                     0.0|                     0.0|               2.0|                 0.0|      0.0|[59.0,4.0,5534.0,...|     [4.88423816192956...|\n",
      "|      30257| 24|              10|          8159|                   0|                11|                   3|            74|   1.0|     1.0|              0.0|             0.0|               3.0|     0.0|            0.0|           0.0|      1.0|         0.0|        0.0|                     0.0|                     0.0|               1.0|                 0.0|      0.0|[24.0,10.0,8159.0...|     [1.98680874383575...|\n",
      "|      65791| 36|               7|          3989|                   1|                27|                   2|            50|   1.0|     2.0|              0.0|             0.0|               1.0|     0.0|            3.0|           1.0|      1.0|         1.0|        1.0|                     0.0|                     0.0|               0.0|                 1.0|      0.0|[36.0,7.0,3989.0,...|     [2.98021311575363...|\n",
      "|      65026| 56|              41|          4821|                   0|                71|                   0|            68|   0.0|     2.0|              1.0|             1.0|               0.0|     1.0|            3.0|           2.0|      2.0|         0.0|        0.0|                     0.0|                     0.0|               2.0|                 1.0|      0.0|[56.0,41.0,4821.0...|     [4.63588706895009...|\n",
      "|      24368| 38|               3|          9977|                   3|                37|                   0|            47|   1.0|     0.0|              1.0|             0.0|               2.0|     0.0|            0.0|           0.0|      1.0|         0.0|        0.0|                     0.0|                     1.0|               2.0|                 2.0|      1.0|[38.0,3.0,9977.0,...|     [3.14578051107328...|\n",
      "|      64970| 47|              23|          3681|                   1|                75|                   3|            93|   0.0|     2.0|              1.0|             0.0|               1.0|     1.0|            3.0|           2.0|      0.0|         1.0|        0.0|                     0.0|                     0.0|               0.0|                 1.0|      1.0|[47.0,23.0,3681.0...|     [3.89083379001168...|\n",
      "|      36999| 48|              16|         11223|                   2|                 5|                   4|            88|   0.0|     4.0|              2.0|             1.0|               1.0|     0.0|            2.0|           0.0|      0.0|         0.0|        0.0|                     0.0|                     0.0|               3.0|                 0.0|      0.0|[48.0,16.0,11223....|     [3.97361748767151...|\n",
      "|      32714| 57|              44|          3773|                   1|                39|                   4|            75|   0.0|     2.0|              0.0|             2.0|               1.0|     1.0|            3.0|           0.0|      0.0|         0.0|        0.0|                     0.0|                     0.0|               2.0|                 1.0|      0.0|[57.0,44.0,3773.0...|     [4.71867076660992...|\n",
      "|      15944| 24|               1|          7319|                   1|                57|                   4|            45|   1.0|     1.0|              3.0|             0.0|               0.0|     1.0|            4.0|           1.0|      0.0|         2.0|        0.0|                     0.0|                     1.0|               0.0|                 0.0|      1.0|[24.0,1.0,7319.0,...|     [1.98680874383575...|\n",
      "+-----------+---+----------------+--------------+--------------------+------------------+--------------------+--------------+------+--------+-----------------+----------------+------------------+--------+---------------+--------------+---------+------------+-----------+------------------------+------------------------+------------------+--------------------+---------+--------------------+-------------------------+\n",
      "only showing top 10 rows\n",
      "\n"
     ]
    }
   ],
   "source": [
    "from pyspark.ml.feature import StringIndexer, StandardScaler, VectorAssembler\n",
    "from pyspark.ml import Pipeline\n",
    "\n",
    "columns_to_drop = [\n",
    "    'Gender', 'Job Role', 'Work-Life Balance', 'Job Satisfaction', 'Performance Rating', \n",
    "    'Overtime', 'Education Level', 'Marital Status', 'Job Level', 'Company Size', \n",
    "    'Remote Work', 'Leadership Opportunities', 'Innovation Opportunities', 'Company Reputation', \n",
    "    'Employee Recognition', 'Attrition'\n",
    "]\n",
    "\n",
    "numerical_columns = ['Age', 'Years at Company', 'Monthly Income', 'Number of Promotions', \n",
    "                      'Distance from Home', 'Number of Dependents', 'Company Tenure']\n",
    "\n",
    "# Create a list of StringIndexer transformers\n",
    "indexers = [\n",
    "    StringIndexer(inputCol='Gender', outputCol='Gender Indx'),\n",
    "    StringIndexer(inputCol='Job Role', outputCol='Job Role Indx'),\n",
    "    StringIndexer(inputCol='Work-Life Balance', outputCol='Work-Life Balance Indx'),\n",
    "    StringIndexer(inputCol='Job Satisfaction', outputCol='Job Satisfaction Indx'),\n",
    "    StringIndexer(inputCol='Performance Rating', outputCol='Performance Rating Indx'),\n",
    "    StringIndexer(inputCol='Overtime', outputCol='Overtime Indx'),\n",
    "    StringIndexer(inputCol='Education Level', outputCol='Education Level Indx'),\n",
    "    StringIndexer(inputCol='Marital Status', outputCol='Marital Status Indx'),\n",
    "    StringIndexer(inputCol='Job Level', outputCol='Job Level Indx'),\n",
    "    StringIndexer(inputCol='Company Size', outputCol='Company Size Indx'),\n",
    "    StringIndexer(inputCol='Remote Work', outputCol='Remote Work Indx'),\n",
    "    StringIndexer(inputCol='Leadership Opportunities', outputCol='Leadership Opportunities Indx'),\n",
    "    StringIndexer(inputCol='Innovation Opportunities', outputCol='Innovation Opportunities Indx'),\n",
    "    StringIndexer(inputCol='Company Reputation', outputCol='Company Reputation Indx'),\n",
    "    StringIndexer(inputCol='Employee Recognition', outputCol='Employee Recognition Indx'),\n",
    "    StringIndexer(inputCol='Attrition', outputCol='Attrition Indx')\n",
    "]\n",
    "\n",
    "# Assemble numerical features into a single vector column using VectorAssembler\n",
    "assembler = VectorAssembler(inputCols=numerical_columns, outputCol='numerical_features')\n",
    "\n",
    "# Apply standardization or scaling only on the numerical features\n",
    "scaler = StandardScaler(inputCol='numerical_features', outputCol='scaled_numerical_features')\n",
    "\n",
    "# Create a pipeline\n",
    "pipeline = Pipeline(stages=indexers + [assembler, scaler])\n",
    "\n",
    "# Fit and transform the data using the previously created pipeline for multiple indexes\n",
    "train_df = pipeline.fit(raw_train_df).transform(raw_train_df)\n",
    "test_df = pipeline.fit(raw_test_df).transform(raw_test_df)\n",
    "\n",
    "# Replace the original columns with the indexed columns\n",
    "for col_name in columns_to_drop:\n",
    "    indexed_col = col_name + \" Indx\"\n",
    "    train_df = train_df.drop(col_name).withColumnRenamed(indexed_col, col_name)\n",
    "    test_df = test_df.drop(col_name).withColumnRenamed(indexed_col, col_name)\n",
    "\n",
    "train_df.show(10)"
   ]
  },
  {
   "cell_type": "code",
   "execution_count": 10,
   "metadata": {},
   "outputs": [
    {
     "name": "stdout",
     "output_type": "stream",
     "text": [
      "+--------------------------------------------------------------------------------------------------------------------------------------+\n",
      "|scaled_numerical_features                                                                                                             |\n",
      "+--------------------------------------------------------------------------------------------------------------------------------------+\n",
      "|[2.566294627454518,1.6894924057870304,2.505278488141217,2.010068203249427,0.7728393618666017,0.0,3.502407874141631]                   |\n",
      "|[4.884238161929567,0.355682611744638,2.5722098614793123,3.0151023048741408,0.7377102999635744,1.9284062249689407,0.8264108467075758]  |\n",
      "|[1.986808743835756,0.8892065293615949,3.7923130212883467,0.0,0.38641968093330087,1.9284062249689407,2.9121144122076483]               |\n",
      "|[2.9802131157536342,0.6224445705531165,1.8540920017059952,1.0050341016247135,0.9484846713817384,1.2856041499792938,1.9676448731132758]|\n",
      "|[4.6358870689500975,3.6457467703825395,2.240806603214992,0.0,2.494163395114942,0.0,2.675997027434055]                                 |\n",
      "|[3.1457805110732804,0.2667619588084785,4.637321609681804,3.0151023048741408,1.299775290412012,0.0,1.8495861807264793]                 |\n",
      "|[3.890833790011689,2.0451750175316685,1.7109332309550684,1.0050341016247135,2.6346796427270514,1.9284062249689407,3.659819463990693]  |\n",
      "|[3.973617487671512,1.422730446978552,5.216463909537826,2.010068203249427,0.17564530951513674,2.5712082999585877,3.4630549766793655]   |\n",
      "|[4.718670766609921,3.912508729191018,1.7536949416988519,1.0050341016247135,1.3700334142180666,2.5712082999585877,2.9514673096699138]  |\n",
      "|[1.986808743835756,0.0889206529361595,3.4018800101494557,1.0050341016247135,2.002356528472559,2.5712082999585877,1.7708803858019482]  |\n",
      "+--------------------------------------------------------------------------------------------------------------------------------------+\n",
      "only showing top 10 rows\n",
      "\n"
     ]
    }
   ],
   "source": [
    "train_df.select('scaled_numerical_features').show(10, truncate=False)"
   ]
  },
  {
   "cell_type": "code",
   "execution_count": 12,
   "metadata": {},
   "outputs": [
    {
     "name": "stdout",
     "output_type": "stream",
     "text": [
      "+------------------+-----------------------+---------------------+---------------------------+-------------------------+---------------------------+---------------------+\n",
      "|        Age Scaled|Years at Company Scaled|Monthly Income Scaled|Number of Promotions Scaled|Distance from Home Scaled|Number of Dependents Scaled|Company Tenure Scaled|\n",
      "+------------------+-----------------------+---------------------+---------------------------+-------------------------+---------------------------+---------------------+\n",
      "| 2.566294627454518|     1.6894924057870304|    2.505278488141217|          2.010068203249427|       0.7728393618666017|                        0.0|    3.502407874141631|\n",
      "| 4.884238161929567|      0.355682611744638|   2.5722098614793123|         3.0151023048741408|       0.7377102999635744|         1.9284062249689407|   0.8264108467075758|\n",
      "| 1.986808743835756|     0.8892065293615949|   3.7923130212883467|                        0.0|      0.38641968093330087|         1.9284062249689407|   2.9121144122076483|\n",
      "|2.9802131157536342|     0.6224445705531165|   1.8540920017059952|         1.0050341016247135|       0.9484846713817384|         1.2856041499792938|   1.9676448731132758|\n",
      "|4.6358870689500975|     3.6457467703825395|    2.240806603214992|                        0.0|        2.494163395114942|                        0.0|    2.675997027434055|\n",
      "|3.1457805110732804|     0.2667619588084785|    4.637321609681804|         3.0151023048741408|        1.299775290412012|                        0.0|   1.8495861807264793|\n",
      "| 3.890833790011689|     2.0451750175316685|   1.7109332309550684|         1.0050341016247135|       2.6346796427270514|         1.9284062249689407|    3.659819463990693|\n",
      "| 3.973617487671512|      1.422730446978552|    5.216463909537826|          2.010068203249427|      0.17564530951513674|         2.5712082999585877|   3.4630549766793655|\n",
      "| 4.718670766609921|      3.912508729191018|   1.7536949416988519|         1.0050341016247135|       1.3700334142180666|         2.5712082999585877|   2.9514673096699138|\n",
      "| 1.986808743835756|     0.0889206529361595|   3.4018800101494557|         1.0050341016247135|        2.002356528472559|         2.5712082999585877|   1.7708803858019482|\n",
      "|2.4835109297946953|      1.067047835233914|    2.529912951939266|         1.0050341016247135|       1.7915821570543948|         0.6428020749896469|   0.6689992568585138|\n",
      "| 2.400727232134872|      0.533523917616957|    4.159970773444136|          2.010068203249427|       0.9133556094787111|                        0.0|   1.4954101035660896|\n",
      "| 3.890833790011689|      3.378984811574061|    4.201338080576709|         1.0050341016247135|        2.740066828436133|                        0.0|    2.675997027434055|\n",
      "| 2.566294627454518|      1.956254364595509|   3.7602417382305093|          4.020136406498854|       1.0538718570908205|         1.2856041499792938|   3.3056433868303032|\n",
      "| 3.311347906392927|      2.667619588084785|    2.951487643728521|                        0.0|       3.4426480664966803|                        0.0|   3.7778781563774895|\n",
      "| 3.311347906392927|      0.355682611744638|    2.405811030541547|                        0.0|       1.6861949713453128|                        0.0|   0.8264108467075758|\n",
      "|1.5728902555366402|     0.8002858764254355|    3.830891521198499|          2.010068203249427|       0.5971940523514649|         1.9284062249689407|   2.4792325401227275|\n",
      "| 2.731862022774165|     0.0889206529361595|    4.059108912233255|         1.0050341016247135|       3.0210993236603523|                        0.0|   0.7477050517830448|\n",
      "| 4.056401185331335|     3.2900641586379016|   2.9059371257623168|          2.010068203249427|        2.107743714181641|         2.5712082999585877|    2.754702822358586|\n",
      "| 2.400727232134872|     0.8002858764254355|   3.5036714737678096|                        0.0|       0.3512906190302735|                        0.0|    2.990820207132179|\n",
      "+------------------+-----------------------+---------------------+---------------------------+-------------------------+---------------------------+---------------------+\n",
      "only showing top 20 rows\n",
      "\n"
     ]
    }
   ],
   "source": [
    "from pyspark.ml.linalg import Vectors\n",
    "\n",
    "numerical_columns = ['Age Scaled', 'Years at Company Scaled', 'Monthly Income Scaled', 'Number of Promotions Scaled', \n",
    "                      'Distance from Home Scaled', 'Number of Dependents Scaled', 'Company Tenure Scaled']\n",
    "\n",
    "#temp = train_df.repartition(10)\n",
    "temp = train_df.select('scaled_numerical_features')\n",
    "temp = temp.rdd.map(lambda x:[float(y) for y in x ['scaled_numerical_features']]).toDF(numerical_columns)\n",
    "\n",
    "temp.show()\n"
   ]
  },
  {
   "cell_type": "code",
   "execution_count": null,
   "metadata": {},
   "outputs": [
    {
     "data": {
      "text/plain": [
       "59598"
      ]
     },
     "execution_count": 15,
     "metadata": {},
     "output_type": "execute_result"
    }
   ],
   "source": [
    "temp.count()"
   ]
  },
  {
   "cell_type": "code",
   "execution_count": 14,
   "metadata": {},
   "outputs": [
    {
     "ename": "AnalysisException",
     "evalue": "[MISSING_ATTRIBUTES.RESOLVED_ATTRIBUTE_MISSING_FROM_INPUT] Resolved attribute(s) \"Age Scaled\" missing from \"Employee ID\", \"Age\", \"Years at Company\", \"Monthly Income\", \"Number of Promotions\", \"Distance from Home\", \"Number of Dependents\", \"Company Tenure\", \"Gender\", \"Job Role\", \"Work-Life Balance\", \"Job Satisfaction\", \"Performance Rating\", \"Overtime\", \"Education Level\", \"Marital Status\", \"Job Level\", \"Company Size\", \"Remote Work\", \"Leadership Opportunities\", \"Innovation Opportunities\", \"Company Reputation\", \"Employee Recognition\", \"Attrition\", \"numerical_features\", \"scaled_numerical_features\" in operator !Project [Employee ID#17, Age#18, Years at Company#20, Monthly Income#22, Number of Promotions#26, Distance from Home#28, Number of Dependents#31, Company Tenure#34, Gender#4736, Job Role#4901, Work-Life Balance#5062, Job Satisfaction#5219, Performance Rating#5372, Overtime#5521, Education Level#5666, Marital Status#5807, Job Level#5944, Company Size#6077, Remote Work#6206, Leadership Opportunities#6331, Innovation Opportunities#6452, Company Reputation#6569, Employee Recognition#6682, Attrition#6791, ... 3 more fields]. ;\n!Project [Employee ID#17, Age#18, Years at Company#20, Monthly Income#22, Number of Promotions#26, Distance from Home#28, Number of Dependents#31, Company Tenure#34, Gender#4736, Job Role#4901, Work-Life Balance#5062, Job Satisfaction#5219, Performance Rating#5372, Overtime#5521, Education Level#5666, Marital Status#5807, Job Level#5944, Company Size#6077, Remote Work#6206, Leadership Opportunities#6331, Innovation Opportunities#6452, Company Reputation#6569, Employee Recognition#6682, Attrition#6791, ... 3 more fields]\n+- Project [Employee ID#17, Age#18, Years at Company#20, Monthly Income#22, Number of Promotions#26, Distance from Home#28, Number of Dependents#31, Company Tenure#34, Gender#4736, Job Role#4901, Work-Life Balance#5062, Job Satisfaction#5219, Performance Rating#5372, Overtime#5521, Education Level#5666, Marital Status#5807, Job Level#5944, Company Size#6077, Remote Work#6206, Leadership Opportunities#6331, Innovation Opportunities#6452, Company Reputation#6569, Employee Recognition#6682, Attrition Indx#2678 AS Attrition#6791, ... 2 more fields]\n   +- Project [Employee ID#17, Age#18, Years at Company#20, Monthly Income#22, Number of Promotions#26, Distance from Home#28, Number of Dependents#31, Company Tenure#34, Gender#4736, Job Role#4901, Work-Life Balance#5062, Job Satisfaction#5219, Performance Rating#5372, Overtime#5521, Education Level#5666, Marital Status#5807, Job Level#5944, Company Size#6077, Remote Work#6206, Leadership Opportunities#6331, Innovation Opportunities#6452, Company Reputation#6569, Employee Recognition#6682, Attrition Indx#2678, ... 2 more fields]\n      +- Project [Employee ID#17, Age#18, Years at Company#20, Monthly Income#22, Number of Promotions#26, Distance from Home#28, Number of Dependents#31, Company Tenure#34, Attrition#40, Gender#4736, Job Role#4901, Work-Life Balance#5062, Job Satisfaction#5219, Performance Rating#5372, Overtime#5521, Education Level#5666, Marital Status#5807, Job Level#5944, Company Size#6077, Remote Work#6206, Leadership Opportunities#6331, Innovation Opportunities#6452, Company Reputation#6569, Employee Recognition Indx#2632 AS Employee Recognition#6682, ... 3 more fields]\n         +- Project [Employee ID#17, Age#18, Years at Company#20, Monthly Income#22, Number of Promotions#26, Distance from Home#28, Number of Dependents#31, Company Tenure#34, Attrition#40, Gender#4736, Job Role#4901, Work-Life Balance#5062, Job Satisfaction#5219, Performance Rating#5372, Overtime#5521, Education Level#5666, Marital Status#5807, Job Level#5944, Company Size#6077, Remote Work#6206, Leadership Opportunities#6331, Innovation Opportunities#6452, Company Reputation#6569, Employee Recognition Indx#2632, ... 3 more fields]\n            +- Project [Employee ID#17, Age#18, Years at Company#20, Monthly Income#22, Number of Promotions#26, Distance from Home#28, Number of Dependents#31, Company Tenure#34, Employee Recognition#39, Attrition#40, Gender#4736, Job Role#4901, Work-Life Balance#5062, Job Satisfaction#5219, Performance Rating#5372, Overtime#5521, Education Level#5666, Marital Status#5807, Job Level#5944, Company Size#6077, Remote Work#6206, Leadership Opportunities#6331, Innovation Opportunities#6452, Company Reputation Indx#2587 AS Company Reputation#6569, ... 4 more fields]\n               +- Project [Employee ID#17, Age#18, Years at Company#20, Monthly Income#22, Number of Promotions#26, Distance from Home#28, Number of Dependents#31, Company Tenure#34, Employee Recognition#39, Attrition#40, Gender#4736, Job Role#4901, Work-Life Balance#5062, Job Satisfaction#5219, Performance Rating#5372, Overtime#5521, Education Level#5666, Marital Status#5807, Job Level#5944, Company Size#6077, Remote Work#6206, Leadership Opportunities#6331, Innovation Opportunities#6452, Company Reputation Indx#2587, ... 4 more fields]\n                  +- Project [Employee ID#17, Age#18, Years at Company#20, Monthly Income#22, Number of Promotions#26, Distance from Home#28, Number of Dependents#31, Company Tenure#34, Company Reputation#38, Employee Recognition#39, Attrition#40, Gender#4736, Job Role#4901, Work-Life Balance#5062, Job Satisfaction#5219, Performance Rating#5372, Overtime#5521, Education Level#5666, Marital Status#5807, Job Level#5944, Company Size#6077, Remote Work#6206, Leadership Opportunities#6331, Innovation Opportunities Indx#2543 AS Innovation Opportunities#6452, ... 5 more fields]\n                     +- Project [Employee ID#17, Age#18, Years at Company#20, Monthly Income#22, Number of Promotions#26, Distance from Home#28, Number of Dependents#31, Company Tenure#34, Company Reputation#38, Employee Recognition#39, Attrition#40, Gender#4736, Job Role#4901, Work-Life Balance#5062, Job Satisfaction#5219, Performance Rating#5372, Overtime#5521, Education Level#5666, Marital Status#5807, Job Level#5944, Company Size#6077, Remote Work#6206, Leadership Opportunities#6331, Innovation Opportunities Indx#2543, ... 5 more fields]\n                        +- Project [Employee ID#17, Age#18, Years at Company#20, Monthly Income#22, Number of Promotions#26, Distance from Home#28, Number of Dependents#31, Company Tenure#34, Innovation Opportunities#37, Company Reputation#38, Employee Recognition#39, Attrition#40, Gender#4736, Job Role#4901, Work-Life Balance#5062, Job Satisfaction#5219, Performance Rating#5372, Overtime#5521, Education Level#5666, Marital Status#5807, Job Level#5944, Company Size#6077, Remote Work#6206, Leadership Opportunities Indx#2500 AS Leadership Opportunities#6331, ... 6 more fields]\n                           +- Project [Employee ID#17, Age#18, Years at Company#20, Monthly Income#22, Number of Promotions#26, Distance from Home#28, Number of Dependents#31, Company Tenure#34, Innovation Opportunities#37, Company Reputation#38, Employee Recognition#39, Attrition#40, Gender#4736, Job Role#4901, Work-Life Balance#5062, Job Satisfaction#5219, Performance Rating#5372, Overtime#5521, Education Level#5666, Marital Status#5807, Job Level#5944, Company Size#6077, Remote Work#6206, Leadership Opportunities Indx#2500, ... 6 more fields]\n                              +- Project [Employee ID#17, Age#18, Years at Company#20, Monthly Income#22, Number of Promotions#26, Distance from Home#28, Number of Dependents#31, Company Tenure#34, Leadership Opportunities#36, Innovation Opportunities#37, Company Reputation#38, Employee Recognition#39, Attrition#40, Gender#4736, Job Role#4901, Work-Life Balance#5062, Job Satisfaction#5219, Performance Rating#5372, Overtime#5521, Education Level#5666, Marital Status#5807, Job Level#5944, Company Size#6077, Remote Work Indx#2458 AS Remote Work#6206, ... 7 more fields]\n                                 +- Project [Employee ID#17, Age#18, Years at Company#20, Monthly Income#22, Number of Promotions#26, Distance from Home#28, Number of Dependents#31, Company Tenure#34, Leadership Opportunities#36, Innovation Opportunities#37, Company Reputation#38, Employee Recognition#39, Attrition#40, Gender#4736, Job Role#4901, Work-Life Balance#5062, Job Satisfaction#5219, Performance Rating#5372, Overtime#5521, Education Level#5666, Marital Status#5807, Job Level#5944, Company Size#6077, Remote Work Indx#2458, ... 7 more fields]\n                                    +- Project [Employee ID#17, Age#18, Years at Company#20, Monthly Income#22, Number of Promotions#26, Distance from Home#28, Number of Dependents#31, Company Tenure#34, Remote Work#35, Leadership Opportunities#36, Innovation Opportunities#37, Company Reputation#38, Employee Recognition#39, Attrition#40, Gender#4736, Job Role#4901, Work-Life Balance#5062, Job Satisfaction#5219, Performance Rating#5372, Overtime#5521, Education Level#5666, Marital Status#5807, Job Level#5944, Company Size Indx#2417 AS Company Size#6077, ... 8 more fields]\n                                       +- Project [Employee ID#17, Age#18, Years at Company#20, Monthly Income#22, Number of Promotions#26, Distance from Home#28, Number of Dependents#31, Company Tenure#34, Remote Work#35, Leadership Opportunities#36, Innovation Opportunities#37, Company Reputation#38, Employee Recognition#39, Attrition#40, Gender#4736, Job Role#4901, Work-Life Balance#5062, Job Satisfaction#5219, Performance Rating#5372, Overtime#5521, Education Level#5666, Marital Status#5807, Job Level#5944, Company Size Indx#2417, ... 8 more fields]\n                                          +- Project [Employee ID#17, Age#18, Years at Company#20, Monthly Income#22, Number of Promotions#26, Distance from Home#28, Number of Dependents#31, Company Size#33, Company Tenure#34, Remote Work#35, Leadership Opportunities#36, Innovation Opportunities#37, Company Reputation#38, Employee Recognition#39, Attrition#40, Gender#4736, Job Role#4901, Work-Life Balance#5062, Job Satisfaction#5219, Performance Rating#5372, Overtime#5521, Education Level#5666, Marital Status#5807, Job Level Indx#2377 AS Job Level#5944, ... 9 more fields]\n                                             +- Project [Employee ID#17, Age#18, Years at Company#20, Monthly Income#22, Number of Promotions#26, Distance from Home#28, Number of Dependents#31, Company Size#33, Company Tenure#34, Remote Work#35, Leadership Opportunities#36, Innovation Opportunities#37, Company Reputation#38, Employee Recognition#39, Attrition#40, Gender#4736, Job Role#4901, Work-Life Balance#5062, Job Satisfaction#5219, Performance Rating#5372, Overtime#5521, Education Level#5666, Marital Status#5807, Job Level Indx#2377, ... 9 more fields]\n                                                +- Project [Employee ID#17, Age#18, Years at Company#20, Monthly Income#22, Number of Promotions#26, Distance from Home#28, Number of Dependents#31, Job Level#32, Company Size#33, Company Tenure#34, Remote Work#35, Leadership Opportunities#36, Innovation Opportunities#37, Company Reputation#38, Employee Recognition#39, Attrition#40, Gender#4736, Job Role#4901, Work-Life Balance#5062, Job Satisfaction#5219, Performance Rating#5372, Overtime#5521, Education Level#5666, Marital Status Indx#2338 AS Marital Status#5807, ... 10 more fields]\n                                                   +- Project [Employee ID#17, Age#18, Years at Company#20, Monthly Income#22, Number of Promotions#26, Distance from Home#28, Number of Dependents#31, Job Level#32, Company Size#33, Company Tenure#34, Remote Work#35, Leadership Opportunities#36, Innovation Opportunities#37, Company Reputation#38, Employee Recognition#39, Attrition#40, Gender#4736, Job Role#4901, Work-Life Balance#5062, Job Satisfaction#5219, Performance Rating#5372, Overtime#5521, Education Level#5666, Marital Status Indx#2338, ... 10 more fields]\n                                                      +- Project [Employee ID#17, Age#18, Years at Company#20, Monthly Income#22, Number of Promotions#26, Distance from Home#28, Marital Status#30, Number of Dependents#31, Job Level#32, Company Size#33, Company Tenure#34, Remote Work#35, Leadership Opportunities#36, Innovation Opportunities#37, Company Reputation#38, Employee Recognition#39, Attrition#40, Gender#4736, Job Role#4901, Work-Life Balance#5062, Job Satisfaction#5219, Performance Rating#5372, Overtime#5521, Education Level Indx#2300 AS Education Level#5666, ... 11 more fields]\n                                                         +- Project [Employee ID#17, Age#18, Years at Company#20, Monthly Income#22, Number of Promotions#26, Distance from Home#28, Marital Status#30, Number of Dependents#31, Job Level#32, Company Size#33, Company Tenure#34, Remote Work#35, Leadership Opportunities#36, Innovation Opportunities#37, Company Reputation#38, Employee Recognition#39, Attrition#40, Gender#4736, Job Role#4901, Work-Life Balance#5062, Job Satisfaction#5219, Performance Rating#5372, Overtime#5521, Education Level Indx#2300, ... 11 more fields]\n                                                            +- Project [Employee ID#17, Age#18, Years at Company#20, Monthly Income#22, Number of Promotions#26, Distance from Home#28, Education Level#29, Marital Status#30, Number of Dependents#31, Job Level#32, Company Size#33, Company Tenure#34, Remote Work#35, Leadership Opportunities#36, Innovation Opportunities#37, Company Reputation#38, Employee Recognition#39, Attrition#40, Gender#4736, Job Role#4901, Work-Life Balance#5062, Job Satisfaction#5219, Performance Rating#5372, Overtime Indx#2263 AS Overtime#5521, ... 12 more fields]\n                                                               +- Project [Employee ID#17, Age#18, Years at Company#20, Monthly Income#22, Number of Promotions#26, Distance from Home#28, Education Level#29, Marital Status#30, Number of Dependents#31, Job Level#32, Company Size#33, Company Tenure#34, Remote Work#35, Leadership Opportunities#36, Innovation Opportunities#37, Company Reputation#38, Employee Recognition#39, Attrition#40, Gender#4736, Job Role#4901, Work-Life Balance#5062, Job Satisfaction#5219, Performance Rating#5372, Overtime Indx#2263, ... 12 more fields]\n                                                                  +- Project [Employee ID#17, Age#18, Years at Company#20, Monthly Income#22, Number of Promotions#26, Overtime#27, Distance from Home#28, Education Level#29, Marital Status#30, Number of Dependents#31, Job Level#32, Company Size#33, Company Tenure#34, Remote Work#35, Leadership Opportunities#36, Innovation Opportunities#37, Company Reputation#38, Employee Recognition#39, Attrition#40, Gender#4736, Job Role#4901, Work-Life Balance#5062, Job Satisfaction#5219, Performance Rating Indx#2227 AS Performance Rating#5372, ... 13 more fields]\n                                                                     +- Project [Employee ID#17, Age#18, Years at Company#20, Monthly Income#22, Number of Promotions#26, Overtime#27, Distance from Home#28, Education Level#29, Marital Status#30, Number of Dependents#31, Job Level#32, Company Size#33, Company Tenure#34, Remote Work#35, Leadership Opportunities#36, Innovation Opportunities#37, Company Reputation#38, Employee Recognition#39, Attrition#40, Gender#4736, Job Role#4901, Work-Life Balance#5062, Job Satisfaction#5219, Performance Rating Indx#2227, ... 13 more fields]\n                                                                        +- Project [Employee ID#17, Age#18, Years at Company#20, Monthly Income#22, Performance Rating#25, Number of Promotions#26, Overtime#27, Distance from Home#28, Education Level#29, Marital Status#30, Number of Dependents#31, Job Level#32, Company Size#33, Company Tenure#34, Remote Work#35, Leadership Opportunities#36, Innovation Opportunities#37, Company Reputation#38, Employee Recognition#39, Attrition#40, Gender#4736, Job Role#4901, Work-Life Balance#5062, Job Satisfaction Indx#2192 AS Job Satisfaction#5219, ... 14 more fields]\n                                                                           +- Project [Employee ID#17, Age#18, Years at Company#20, Monthly Income#22, Performance Rating#25, Number of Promotions#26, Overtime#27, Distance from Home#28, Education Level#29, Marital Status#30, Number of Dependents#31, Job Level#32, Company Size#33, Company Tenure#34, Remote Work#35, Leadership Opportunities#36, Innovation Opportunities#37, Company Reputation#38, Employee Recognition#39, Attrition#40, Gender#4736, Job Role#4901, Work-Life Balance#5062, Job Satisfaction Indx#2192, ... 14 more fields]\n                                                                              +- Project [Employee ID#17, Age#18, Years at Company#20, Monthly Income#22, Job Satisfaction#24, Performance Rating#25, Number of Promotions#26, Overtime#27, Distance from Home#28, Education Level#29, Marital Status#30, Number of Dependents#31, Job Level#32, Company Size#33, Company Tenure#34, Remote Work#35, Leadership Opportunities#36, Innovation Opportunities#37, Company Reputation#38, Employee Recognition#39, Attrition#40, Gender#4736, Job Role#4901, Work-Life Balance Indx#2158 AS Work-Life Balance#5062, ... 15 more fields]\n                                                                                 +- Project [Employee ID#17, Age#18, Years at Company#20, Monthly Income#22, Job Satisfaction#24, Performance Rating#25, Number of Promotions#26, Overtime#27, Distance from Home#28, Education Level#29, Marital Status#30, Number of Dependents#31, Job Level#32, Company Size#33, Company Tenure#34, Remote Work#35, Leadership Opportunities#36, Innovation Opportunities#37, Company Reputation#38, Employee Recognition#39, Attrition#40, Gender#4736, Job Role#4901, Work-Life Balance Indx#2158, ... 15 more fields]\n                                                                                    +- Project [Employee ID#17, Age#18, Years at Company#20, Monthly Income#22, Work-Life Balance#23, Job Satisfaction#24, Performance Rating#25, Number of Promotions#26, Overtime#27, Distance from Home#28, Education Level#29, Marital Status#30, Number of Dependents#31, Job Level#32, Company Size#33, Company Tenure#34, Remote Work#35, Leadership Opportunities#36, Innovation Opportunities#37, Company Reputation#38, Employee Recognition#39, Attrition#40, Gender#4736, Job Role Indx#2125 AS Job Role#4901, ... 16 more fields]\n                                                                                       +- Project [Employee ID#17, Age#18, Years at Company#20, Monthly Income#22, Work-Life Balance#23, Job Satisfaction#24, Performance Rating#25, Number of Promotions#26, Overtime#27, Distance from Home#28, Education Level#29, Marital Status#30, Number of Dependents#31, Job Level#32, Company Size#33, Company Tenure#34, Remote Work#35, Leadership Opportunities#36, Innovation Opportunities#37, Company Reputation#38, Employee Recognition#39, Attrition#40, Gender#4736, Job Role Indx#2125, ... 16 more fields]\n                                                                                          +- Project [Employee ID#17, Age#18, Years at Company#20, Job Role#21, Monthly Income#22, Work-Life Balance#23, Job Satisfaction#24, Performance Rating#25, Number of Promotions#26, Overtime#27, Distance from Home#28, Education Level#29, Marital Status#30, Number of Dependents#31, Job Level#32, Company Size#33, Company Tenure#34, Remote Work#35, Leadership Opportunities#36, Innovation Opportunities#37, Company Reputation#38, Employee Recognition#39, Attrition#40, Gender Indx#2093 AS Gender#4736, ... 17 more fields]\n                                                                                             +- Project [Employee ID#17, Age#18, Years at Company#20, Job Role#21, Monthly Income#22, Work-Life Balance#23, Job Satisfaction#24, Performance Rating#25, Number of Promotions#26, Overtime#27, Distance from Home#28, Education Level#29, Marital Status#30, Number of Dependents#31, Job Level#32, Company Size#33, Company Tenure#34, Remote Work#35, Leadership Opportunities#36, Innovation Opportunities#37, Company Reputation#38, Employee Recognition#39, Attrition#40, Gender Indx#2093, ... 17 more fields]\n                                                                                                +- Project [Employee ID#17, Age#18, Gender#19, Years at Company#20, Job Role#21, Monthly Income#22, Work-Life Balance#23, Job Satisfaction#24, Performance Rating#25, Number of Promotions#26, Overtime#27, Distance from Home#28, Education Level#29, Marital Status#30, Number of Dependents#31, Job Level#32, Company Size#33, Company Tenure#34, Remote Work#35, Leadership Opportunities#36, Innovation Opportunities#37, Company Reputation#38, Employee Recognition#39, Attrition#40, ... 18 more fields]\n                                                                                                   +- Project [Employee ID#17, Age#18, Gender#19, Years at Company#20, Job Role#21, Monthly Income#22, Work-Life Balance#23, Job Satisfaction#24, Performance Rating#25, Number of Promotions#26, Overtime#27, Distance from Home#28, Education Level#29, Marital Status#30, Number of Dependents#31, Job Level#32, Company Size#33, Company Tenure#34, Remote Work#35, Leadership Opportunities#36, Innovation Opportunities#37, Company Reputation#38, Employee Recognition#39, Attrition#40, ... 17 more fields]\n                                                                                                      +- Project [Employee ID#17, Age#18, Gender#19, Years at Company#20, Job Role#21, Monthly Income#22, Work-Life Balance#23, Job Satisfaction#24, Performance Rating#25, Number of Promotions#26, Overtime#27, Distance from Home#28, Education Level#29, Marital Status#30, Number of Dependents#31, Job Level#32, Company Size#33, Company Tenure#34, Remote Work#35, Leadership Opportunities#36, Innovation Opportunities#37, Company Reputation#38, Employee Recognition#39, Attrition#40, ... 16 more fields]\n                                                                                                         +- Project [Employee ID#17, Age#18, Gender#19, Years at Company#20, Job Role#21, Monthly Income#22, Work-Life Balance#23, Job Satisfaction#24, Performance Rating#25, Number of Promotions#26, Overtime#27, Distance from Home#28, Education Level#29, Marital Status#30, Number of Dependents#31, Job Level#32, Company Size#33, Company Tenure#34, Remote Work#35, Leadership Opportunities#36, Innovation Opportunities#37, Company Reputation#38, Employee Recognition#39, Attrition#40, ... 15 more fields]\n                                                                                                            +- Project [Employee ID#17, Age#18, Gender#19, Years at Company#20, Job Role#21, Monthly Income#22, Work-Life Balance#23, Job Satisfaction#24, Performance Rating#25, Number of Promotions#26, Overtime#27, Distance from Home#28, Education Level#29, Marital Status#30, Number of Dependents#31, Job Level#32, Company Size#33, Company Tenure#34, Remote Work#35, Leadership Opportunities#36, Innovation Opportunities#37, Company Reputation#38, Employee Recognition#39, Attrition#40, ... 14 more fields]\n                                                                                                               +- Project [Employee ID#17, Age#18, Gender#19, Years at Company#20, Job Role#21, Monthly Income#22, Work-Life Balance#23, Job Satisfaction#24, Performance Rating#25, Number of Promotions#26, Overtime#27, Distance from Home#28, Education Level#29, Marital Status#30, Number of Dependents#31, Job Level#32, Company Size#33, Company Tenure#34, Remote Work#35, Leadership Opportunities#36, Innovation Opportunities#37, Company Reputation#38, Employee Recognition#39, Attrition#40, ... 13 more fields]\n                                                                                                                  +- Project [Employee ID#17, Age#18, Gender#19, Years at Company#20, Job Role#21, Monthly Income#22, Work-Life Balance#23, Job Satisfaction#24, Performance Rating#25, Number of Promotions#26, Overtime#27, Distance from Home#28, Education Level#29, Marital Status#30, Number of Dependents#31, Job Level#32, Company Size#33, Company Tenure#34, Remote Work#35, Leadership Opportunities#36, Innovation Opportunities#37, Company Reputation#38, Employee Recognition#39, Attrition#40, ... 12 more fields]\n                                                                                                                     +- Project [Employee ID#17, Age#18, Gender#19, Years at Company#20, Job Role#21, Monthly Income#22, Work-Life Balance#23, Job Satisfaction#24, Performance Rating#25, Number of Promotions#26, Overtime#27, Distance from Home#28, Education Level#29, Marital Status#30, Number of Dependents#31, Job Level#32, Company Size#33, Company Tenure#34, Remote Work#35, Leadership Opportunities#36, Innovation Opportunities#37, Company Reputation#38, Employee Recognition#39, Attrition#40, ... 11 more fields]\n                                                                                                                        +- Project [Employee ID#17, Age#18, Gender#19, Years at Company#20, Job Role#21, Monthly Income#22, Work-Life Balance#23, Job Satisfaction#24, Performance Rating#25, Number of Promotions#26, Overtime#27, Distance from Home#28, Education Level#29, Marital Status#30, Number of Dependents#31, Job Level#32, Company Size#33, Company Tenure#34, Remote Work#35, Leadership Opportunities#36, Innovation Opportunities#37, Company Reputation#38, Employee Recognition#39, Attrition#40, ... 10 more fields]\n                                                                                                                           +- Project [Employee ID#17, Age#18, Gender#19, Years at Company#20, Job Role#21, Monthly Income#22, Work-Life Balance#23, Job Satisfaction#24, Performance Rating#25, Number of Promotions#26, Overtime#27, Distance from Home#28, Education Level#29, Marital Status#30, Number of Dependents#31, Job Level#32, Company Size#33, Company Tenure#34, Remote Work#35, Leadership Opportunities#36, Innovation Opportunities#37, Company Reputation#38, Employee Recognition#39, Attrition#40, ... 9 more fields]\n                                                                                                                              +- Project [Employee ID#17, Age#18, Gender#19, Years at Company#20, Job Role#21, Monthly Income#22, Work-Life Balance#23, Job Satisfaction#24, Performance Rating#25, Number of Promotions#26, Overtime#27, Distance from Home#28, Education Level#29, Marital Status#30, Number of Dependents#31, Job Level#32, Company Size#33, Company Tenure#34, Remote Work#35, Leadership Opportunities#36, Innovation Opportunities#37, Company Reputation#38, Employee Recognition#39, Attrition#40, ... 8 more fields]\n                                                                                                                                 +- Project [Employee ID#17, Age#18, Gender#19, Years at Company#20, Job Role#21, Monthly Income#22, Work-Life Balance#23, Job Satisfaction#24, Performance Rating#25, Number of Promotions#26, Overtime#27, Distance from Home#28, Education Level#29, Marital Status#30, Number of Dependents#31, Job Level#32, Company Size#33, Company Tenure#34, Remote Work#35, Leadership Opportunities#36, Innovation Opportunities#37, Company Reputation#38, Employee Recognition#39, Attrition#40, ... 7 more fields]\n                                                                                                                                    +- Project [Employee ID#17, Age#18, Gender#19, Years at Company#20, Job Role#21, Monthly Income#22, Work-Life Balance#23, Job Satisfaction#24, Performance Rating#25, Number of Promotions#26, Overtime#27, Distance from Home#28, Education Level#29, Marital Status#30, Number of Dependents#31, Job Level#32, Company Size#33, Company Tenure#34, Remote Work#35, Leadership Opportunities#36, Innovation Opportunities#37, Company Reputation#38, Employee Recognition#39, Attrition#40, ... 6 more fields]\n                                                                                                                                       +- Project [Employee ID#17, Age#18, Gender#19, Years at Company#20, Job Role#21, Monthly Income#22, Work-Life Balance#23, Job Satisfaction#24, Performance Rating#25, Number of Promotions#26, Overtime#27, Distance from Home#28, Education Level#29, Marital Status#30, Number of Dependents#31, Job Level#32, Company Size#33, Company Tenure#34, Remote Work#35, Leadership Opportunities#36, Innovation Opportunities#37, Company Reputation#38, Employee Recognition#39, Attrition#40, ... 5 more fields]\n                                                                                                                                          +- Project [Employee ID#17, Age#18, Gender#19, Years at Company#20, Job Role#21, Monthly Income#22, Work-Life Balance#23, Job Satisfaction#24, Performance Rating#25, Number of Promotions#26, Overtime#27, Distance from Home#28, Education Level#29, Marital Status#30, Number of Dependents#31, Job Level#32, Company Size#33, Company Tenure#34, Remote Work#35, Leadership Opportunities#36, Innovation Opportunities#37, Company Reputation#38, Employee Recognition#39, Attrition#40, ... 4 more fields]\n                                                                                                                                             +- Project [Employee ID#17, Age#18, Gender#19, Years at Company#20, Job Role#21, Monthly Income#22, Work-Life Balance#23, Job Satisfaction#24, Performance Rating#25, Number of Promotions#26, Overtime#27, Distance from Home#28, Education Level#29, Marital Status#30, Number of Dependents#31, Job Level#32, Company Size#33, Company Tenure#34, Remote Work#35, Leadership Opportunities#36, Innovation Opportunities#37, Company Reputation#38, Employee Recognition#39, Attrition#40, ... 3 more fields]\n                                                                                                                                                +- Project [Employee ID#17, Age#18, Gender#19, Years at Company#20, Job Role#21, Monthly Income#22, Work-Life Balance#23, Job Satisfaction#24, Performance Rating#25, Number of Promotions#26, Overtime#27, Distance from Home#28, Education Level#29, Marital Status#30, Number of Dependents#31, Job Level#32, Company Size#33, Company Tenure#34, Remote Work#35, Leadership Opportunities#36, Innovation Opportunities#37, Company Reputation#38, Employee Recognition#39, Attrition#40, ... 2 more fields]\n                                                                                                                                                   +- Project [Employee ID#17, Age#18, Gender#19, Years at Company#20, Job Role#21, Monthly Income#22, Work-Life Balance#23, Job Satisfaction#24, Performance Rating#25, Number of Promotions#26, Overtime#27, Distance from Home#28, Education Level#29, Marital Status#30, Number of Dependents#31, Job Level#32, Company Size#33, Company Tenure#34, Remote Work#35, Leadership Opportunities#36, Innovation Opportunities#37, Company Reputation#38, Employee Recognition#39, Attrition#40, UDF(cast(Gender#19 as string)) AS Gender Indx#2093]\n                                                                                                                                                      +- Relation [Employee ID#17,Age#18,Gender#19,Years at Company#20,Job Role#21,Monthly Income#22,Work-Life Balance#23,Job Satisfaction#24,Performance Rating#25,Number of Promotions#26,Overtime#27,Distance from Home#28,Education Level#29,Marital Status#30,Number of Dependents#31,Job Level#32,Company Size#33,Company Tenure#34,Remote Work#35,Leadership Opportunities#36,Innovation Opportunities#37,Company Reputation#38,Employee Recognition#39,Attrition#40] csv\n",
     "output_type": "error",
     "traceback": [
      "\u001b[1;31m---------------------------------------------------------------------------\u001b[0m",
      "\u001b[1;31mAnalysisException\u001b[0m                         Traceback (most recent call last)",
      "Cell \u001b[1;32mIn[14], line 2\u001b[0m\n\u001b[0;32m      1\u001b[0m \u001b[38;5;28;01mfor\u001b[39;00m col_name \u001b[38;5;129;01min\u001b[39;00m temp\u001b[38;5;241m.\u001b[39mcolumns:\n\u001b[1;32m----> 2\u001b[0m     train_df \u001b[38;5;241m=\u001b[39m \u001b[43mtrain_df\u001b[49m\u001b[38;5;241;43m.\u001b[39;49m\u001b[43mwithColumn\u001b[49m\u001b[43m(\u001b[49m\u001b[43mcol_name\u001b[49m\u001b[43m,\u001b[49m\u001b[43m \u001b[49m\u001b[43mtemp\u001b[49m\u001b[43m[\u001b[49m\u001b[43mcol_name\u001b[49m\u001b[43m]\u001b[49m\u001b[43m)\u001b[49m\n",
      "File \u001b[1;32mc:\\Users\\TRU\\miniforge3\\envs\\dasc_5410\\Lib\\site-packages\\pyspark\\sql\\dataframe.py:5174\u001b[0m, in \u001b[0;36mDataFrame.withColumn\u001b[1;34m(self, colName, col)\u001b[0m\n\u001b[0;32m   5169\u001b[0m \u001b[38;5;28;01mif\u001b[39;00m \u001b[38;5;129;01mnot\u001b[39;00m \u001b[38;5;28misinstance\u001b[39m(col, Column):\n\u001b[0;32m   5170\u001b[0m     \u001b[38;5;28;01mraise\u001b[39;00m PySparkTypeError(\n\u001b[0;32m   5171\u001b[0m         error_class\u001b[38;5;241m=\u001b[39m\u001b[38;5;124m\"\u001b[39m\u001b[38;5;124mNOT_COLUMN\u001b[39m\u001b[38;5;124m\"\u001b[39m,\n\u001b[0;32m   5172\u001b[0m         message_parameters\u001b[38;5;241m=\u001b[39m{\u001b[38;5;124m\"\u001b[39m\u001b[38;5;124marg_name\u001b[39m\u001b[38;5;124m\"\u001b[39m: \u001b[38;5;124m\"\u001b[39m\u001b[38;5;124mcol\u001b[39m\u001b[38;5;124m\"\u001b[39m, \u001b[38;5;124m\"\u001b[39m\u001b[38;5;124marg_type\u001b[39m\u001b[38;5;124m\"\u001b[39m: \u001b[38;5;28mtype\u001b[39m(col)\u001b[38;5;241m.\u001b[39m\u001b[38;5;18m__name__\u001b[39m},\n\u001b[0;32m   5173\u001b[0m     )\n\u001b[1;32m-> 5174\u001b[0m \u001b[38;5;28;01mreturn\u001b[39;00m DataFrame(\u001b[38;5;28;43mself\u001b[39;49m\u001b[38;5;241;43m.\u001b[39;49m\u001b[43m_jdf\u001b[49m\u001b[38;5;241;43m.\u001b[39;49m\u001b[43mwithColumn\u001b[49m\u001b[43m(\u001b[49m\u001b[43mcolName\u001b[49m\u001b[43m,\u001b[49m\u001b[43m \u001b[49m\u001b[43mcol\u001b[49m\u001b[38;5;241;43m.\u001b[39;49m\u001b[43m_jc\u001b[49m\u001b[43m)\u001b[49m, \u001b[38;5;28mself\u001b[39m\u001b[38;5;241m.\u001b[39msparkSession)\n",
      "File \u001b[1;32mc:\\Users\\TRU\\miniforge3\\envs\\dasc_5410\\Lib\\site-packages\\py4j\\java_gateway.py:1322\u001b[0m, in \u001b[0;36mJavaMember.__call__\u001b[1;34m(self, *args)\u001b[0m\n\u001b[0;32m   1316\u001b[0m command \u001b[38;5;241m=\u001b[39m proto\u001b[38;5;241m.\u001b[39mCALL_COMMAND_NAME \u001b[38;5;241m+\u001b[39m\\\n\u001b[0;32m   1317\u001b[0m     \u001b[38;5;28mself\u001b[39m\u001b[38;5;241m.\u001b[39mcommand_header \u001b[38;5;241m+\u001b[39m\\\n\u001b[0;32m   1318\u001b[0m     args_command \u001b[38;5;241m+\u001b[39m\\\n\u001b[0;32m   1319\u001b[0m     proto\u001b[38;5;241m.\u001b[39mEND_COMMAND_PART\n\u001b[0;32m   1321\u001b[0m answer \u001b[38;5;241m=\u001b[39m \u001b[38;5;28mself\u001b[39m\u001b[38;5;241m.\u001b[39mgateway_client\u001b[38;5;241m.\u001b[39msend_command(command)\n\u001b[1;32m-> 1322\u001b[0m return_value \u001b[38;5;241m=\u001b[39m \u001b[43mget_return_value\u001b[49m\u001b[43m(\u001b[49m\n\u001b[0;32m   1323\u001b[0m \u001b[43m    \u001b[49m\u001b[43manswer\u001b[49m\u001b[43m,\u001b[49m\u001b[43m \u001b[49m\u001b[38;5;28;43mself\u001b[39;49m\u001b[38;5;241;43m.\u001b[39;49m\u001b[43mgateway_client\u001b[49m\u001b[43m,\u001b[49m\u001b[43m \u001b[49m\u001b[38;5;28;43mself\u001b[39;49m\u001b[38;5;241;43m.\u001b[39;49m\u001b[43mtarget_id\u001b[49m\u001b[43m,\u001b[49m\u001b[43m \u001b[49m\u001b[38;5;28;43mself\u001b[39;49m\u001b[38;5;241;43m.\u001b[39;49m\u001b[43mname\u001b[49m\u001b[43m)\u001b[49m\n\u001b[0;32m   1325\u001b[0m \u001b[38;5;28;01mfor\u001b[39;00m temp_arg \u001b[38;5;129;01min\u001b[39;00m temp_args:\n\u001b[0;32m   1326\u001b[0m     \u001b[38;5;28;01mif\u001b[39;00m \u001b[38;5;28mhasattr\u001b[39m(temp_arg, \u001b[38;5;124m\"\u001b[39m\u001b[38;5;124m_detach\u001b[39m\u001b[38;5;124m\"\u001b[39m):\n",
      "File \u001b[1;32mc:\\Users\\TRU\\miniforge3\\envs\\dasc_5410\\Lib\\site-packages\\pyspark\\errors\\exceptions\\captured.py:185\u001b[0m, in \u001b[0;36mcapture_sql_exception.<locals>.deco\u001b[1;34m(*a, **kw)\u001b[0m\n\u001b[0;32m    181\u001b[0m converted \u001b[38;5;241m=\u001b[39m convert_exception(e\u001b[38;5;241m.\u001b[39mjava_exception)\n\u001b[0;32m    182\u001b[0m \u001b[38;5;28;01mif\u001b[39;00m \u001b[38;5;129;01mnot\u001b[39;00m \u001b[38;5;28misinstance\u001b[39m(converted, UnknownException):\n\u001b[0;32m    183\u001b[0m     \u001b[38;5;66;03m# Hide where the exception came from that shows a non-Pythonic\u001b[39;00m\n\u001b[0;32m    184\u001b[0m     \u001b[38;5;66;03m# JVM exception message.\u001b[39;00m\n\u001b[1;32m--> 185\u001b[0m     \u001b[38;5;28;01mraise\u001b[39;00m converted \u001b[38;5;28;01mfrom\u001b[39;00m \u001b[38;5;28;01mNone\u001b[39;00m\n\u001b[0;32m    186\u001b[0m \u001b[38;5;28;01melse\u001b[39;00m:\n\u001b[0;32m    187\u001b[0m     \u001b[38;5;28;01mraise\u001b[39;00m\n",
      "\u001b[1;31mAnalysisException\u001b[0m: [MISSING_ATTRIBUTES.RESOLVED_ATTRIBUTE_MISSING_FROM_INPUT] Resolved attribute(s) \"Age Scaled\" missing from \"Employee ID\", \"Age\", \"Years at Company\", \"Monthly Income\", \"Number of Promotions\", \"Distance from Home\", \"Number of Dependents\", \"Company Tenure\", \"Gender\", \"Job Role\", \"Work-Life Balance\", \"Job Satisfaction\", \"Performance Rating\", \"Overtime\", \"Education Level\", \"Marital Status\", \"Job Level\", \"Company Size\", \"Remote Work\", \"Leadership Opportunities\", \"Innovation Opportunities\", \"Company Reputation\", \"Employee Recognition\", \"Attrition\", \"numerical_features\", \"scaled_numerical_features\" in operator !Project [Employee ID#17, Age#18, Years at Company#20, Monthly Income#22, Number of Promotions#26, Distance from Home#28, Number of Dependents#31, Company Tenure#34, Gender#4736, Job Role#4901, Work-Life Balance#5062, Job Satisfaction#5219, Performance Rating#5372, Overtime#5521, Education Level#5666, Marital Status#5807, Job Level#5944, Company Size#6077, Remote Work#6206, Leadership Opportunities#6331, Innovation Opportunities#6452, Company Reputation#6569, Employee Recognition#6682, Attrition#6791, ... 3 more fields]. ;\n!Project [Employee ID#17, Age#18, Years at Company#20, Monthly Income#22, Number of Promotions#26, Distance from Home#28, Number of Dependents#31, Company Tenure#34, Gender#4736, Job Role#4901, Work-Life Balance#5062, Job Satisfaction#5219, Performance Rating#5372, Overtime#5521, Education Level#5666, Marital Status#5807, Job Level#5944, Company Size#6077, Remote Work#6206, Leadership Opportunities#6331, Innovation Opportunities#6452, Company Reputation#6569, Employee Recognition#6682, Attrition#6791, ... 3 more fields]\n+- Project [Employee ID#17, Age#18, Years at Company#20, Monthly Income#22, Number of Promotions#26, Distance from Home#28, Number of Dependents#31, Company Tenure#34, Gender#4736, Job Role#4901, Work-Life Balance#5062, Job Satisfaction#5219, Performance Rating#5372, Overtime#5521, Education Level#5666, Marital Status#5807, Job Level#5944, Company Size#6077, Remote Work#6206, Leadership Opportunities#6331, Innovation Opportunities#6452, Company Reputation#6569, Employee Recognition#6682, Attrition Indx#2678 AS Attrition#6791, ... 2 more fields]\n   +- Project [Employee ID#17, Age#18, Years at Company#20, Monthly Income#22, Number of Promotions#26, Distance from Home#28, Number of Dependents#31, Company Tenure#34, Gender#4736, Job Role#4901, Work-Life Balance#5062, Job Satisfaction#5219, Performance Rating#5372, Overtime#5521, Education Level#5666, Marital Status#5807, Job Level#5944, Company Size#6077, Remote Work#6206, Leadership Opportunities#6331, Innovation Opportunities#6452, Company Reputation#6569, Employee Recognition#6682, Attrition Indx#2678, ... 2 more fields]\n      +- Project [Employee ID#17, Age#18, Years at Company#20, Monthly Income#22, Number of Promotions#26, Distance from Home#28, Number of Dependents#31, Company Tenure#34, Attrition#40, Gender#4736, Job Role#4901, Work-Life Balance#5062, Job Satisfaction#5219, Performance Rating#5372, Overtime#5521, Education Level#5666, Marital Status#5807, Job Level#5944, Company Size#6077, Remote Work#6206, Leadership Opportunities#6331, Innovation Opportunities#6452, Company Reputation#6569, Employee Recognition Indx#2632 AS Employee Recognition#6682, ... 3 more fields]\n         +- Project [Employee ID#17, Age#18, Years at Company#20, Monthly Income#22, Number of Promotions#26, Distance from Home#28, Number of Dependents#31, Company Tenure#34, Attrition#40, Gender#4736, Job Role#4901, Work-Life Balance#5062, Job Satisfaction#5219, Performance Rating#5372, Overtime#5521, Education Level#5666, Marital Status#5807, Job Level#5944, Company Size#6077, Remote Work#6206, Leadership Opportunities#6331, Innovation Opportunities#6452, Company Reputation#6569, Employee Recognition Indx#2632, ... 3 more fields]\n            +- Project [Employee ID#17, Age#18, Years at Company#20, Monthly Income#22, Number of Promotions#26, Distance from Home#28, Number of Dependents#31, Company Tenure#34, Employee Recognition#39, Attrition#40, Gender#4736, Job Role#4901, Work-Life Balance#5062, Job Satisfaction#5219, Performance Rating#5372, Overtime#5521, Education Level#5666, Marital Status#5807, Job Level#5944, Company Size#6077, Remote Work#6206, Leadership Opportunities#6331, Innovation Opportunities#6452, Company Reputation Indx#2587 AS Company Reputation#6569, ... 4 more fields]\n               +- Project [Employee ID#17, Age#18, Years at Company#20, Monthly Income#22, Number of Promotions#26, Distance from Home#28, Number of Dependents#31, Company Tenure#34, Employee Recognition#39, Attrition#40, Gender#4736, Job Role#4901, Work-Life Balance#5062, Job Satisfaction#5219, Performance Rating#5372, Overtime#5521, Education Level#5666, Marital Status#5807, Job Level#5944, Company Size#6077, Remote Work#6206, Leadership Opportunities#6331, Innovation Opportunities#6452, Company Reputation Indx#2587, ... 4 more fields]\n                  +- Project [Employee ID#17, Age#18, Years at Company#20, Monthly Income#22, Number of Promotions#26, Distance from Home#28, Number of Dependents#31, Company Tenure#34, Company Reputation#38, Employee Recognition#39, Attrition#40, Gender#4736, Job Role#4901, Work-Life Balance#5062, Job Satisfaction#5219, Performance Rating#5372, Overtime#5521, Education Level#5666, Marital Status#5807, Job Level#5944, Company Size#6077, Remote Work#6206, Leadership Opportunities#6331, Innovation Opportunities Indx#2543 AS Innovation Opportunities#6452, ... 5 more fields]\n                     +- Project [Employee ID#17, Age#18, Years at Company#20, Monthly Income#22, Number of Promotions#26, Distance from Home#28, Number of Dependents#31, Company Tenure#34, Company Reputation#38, Employee Recognition#39, Attrition#40, Gender#4736, Job Role#4901, Work-Life Balance#5062, Job Satisfaction#5219, Performance Rating#5372, Overtime#5521, Education Level#5666, Marital Status#5807, Job Level#5944, Company Size#6077, Remote Work#6206, Leadership Opportunities#6331, Innovation Opportunities Indx#2543, ... 5 more fields]\n                        +- Project [Employee ID#17, Age#18, Years at Company#20, Monthly Income#22, Number of Promotions#26, Distance from Home#28, Number of Dependents#31, Company Tenure#34, Innovation Opportunities#37, Company Reputation#38, Employee Recognition#39, Attrition#40, Gender#4736, Job Role#4901, Work-Life Balance#5062, Job Satisfaction#5219, Performance Rating#5372, Overtime#5521, Education Level#5666, Marital Status#5807, Job Level#5944, Company Size#6077, Remote Work#6206, Leadership Opportunities Indx#2500 AS Leadership Opportunities#6331, ... 6 more fields]\n                           +- Project [Employee ID#17, Age#18, Years at Company#20, Monthly Income#22, Number of Promotions#26, Distance from Home#28, Number of Dependents#31, Company Tenure#34, Innovation Opportunities#37, Company Reputation#38, Employee Recognition#39, Attrition#40, Gender#4736, Job Role#4901, Work-Life Balance#5062, Job Satisfaction#5219, Performance Rating#5372, Overtime#5521, Education Level#5666, Marital Status#5807, Job Level#5944, Company Size#6077, Remote Work#6206, Leadership Opportunities Indx#2500, ... 6 more fields]\n                              +- Project [Employee ID#17, Age#18, Years at Company#20, Monthly Income#22, Number of Promotions#26, Distance from Home#28, Number of Dependents#31, Company Tenure#34, Leadership Opportunities#36, Innovation Opportunities#37, Company Reputation#38, Employee Recognition#39, Attrition#40, Gender#4736, Job Role#4901, Work-Life Balance#5062, Job Satisfaction#5219, Performance Rating#5372, Overtime#5521, Education Level#5666, Marital Status#5807, Job Level#5944, Company Size#6077, Remote Work Indx#2458 AS Remote Work#6206, ... 7 more fields]\n                                 +- Project [Employee ID#17, Age#18, Years at Company#20, Monthly Income#22, Number of Promotions#26, Distance from Home#28, Number of Dependents#31, Company Tenure#34, Leadership Opportunities#36, Innovation Opportunities#37, Company Reputation#38, Employee Recognition#39, Attrition#40, Gender#4736, Job Role#4901, Work-Life Balance#5062, Job Satisfaction#5219, Performance Rating#5372, Overtime#5521, Education Level#5666, Marital Status#5807, Job Level#5944, Company Size#6077, Remote Work Indx#2458, ... 7 more fields]\n                                    +- Project [Employee ID#17, Age#18, Years at Company#20, Monthly Income#22, Number of Promotions#26, Distance from Home#28, Number of Dependents#31, Company Tenure#34, Remote Work#35, Leadership Opportunities#36, Innovation Opportunities#37, Company Reputation#38, Employee Recognition#39, Attrition#40, Gender#4736, Job Role#4901, Work-Life Balance#5062, Job Satisfaction#5219, Performance Rating#5372, Overtime#5521, Education Level#5666, Marital Status#5807, Job Level#5944, Company Size Indx#2417 AS Company Size#6077, ... 8 more fields]\n                                       +- Project [Employee ID#17, Age#18, Years at Company#20, Monthly Income#22, Number of Promotions#26, Distance from Home#28, Number of Dependents#31, Company Tenure#34, Remote Work#35, Leadership Opportunities#36, Innovation Opportunities#37, Company Reputation#38, Employee Recognition#39, Attrition#40, Gender#4736, Job Role#4901, Work-Life Balance#5062, Job Satisfaction#5219, Performance Rating#5372, Overtime#5521, Education Level#5666, Marital Status#5807, Job Level#5944, Company Size Indx#2417, ... 8 more fields]\n                                          +- Project [Employee ID#17, Age#18, Years at Company#20, Monthly Income#22, Number of Promotions#26, Distance from Home#28, Number of Dependents#31, Company Size#33, Company Tenure#34, Remote Work#35, Leadership Opportunities#36, Innovation Opportunities#37, Company Reputation#38, Employee Recognition#39, Attrition#40, Gender#4736, Job Role#4901, Work-Life Balance#5062, Job Satisfaction#5219, Performance Rating#5372, Overtime#5521, Education Level#5666, Marital Status#5807, Job Level Indx#2377 AS Job Level#5944, ... 9 more fields]\n                                             +- Project [Employee ID#17, Age#18, Years at Company#20, Monthly Income#22, Number of Promotions#26, Distance from Home#28, Number of Dependents#31, Company Size#33, Company Tenure#34, Remote Work#35, Leadership Opportunities#36, Innovation Opportunities#37, Company Reputation#38, Employee Recognition#39, Attrition#40, Gender#4736, Job Role#4901, Work-Life Balance#5062, Job Satisfaction#5219, Performance Rating#5372, Overtime#5521, Education Level#5666, Marital Status#5807, Job Level Indx#2377, ... 9 more fields]\n                                                +- Project [Employee ID#17, Age#18, Years at Company#20, Monthly Income#22, Number of Promotions#26, Distance from Home#28, Number of Dependents#31, Job Level#32, Company Size#33, Company Tenure#34, Remote Work#35, Leadership Opportunities#36, Innovation Opportunities#37, Company Reputation#38, Employee Recognition#39, Attrition#40, Gender#4736, Job Role#4901, Work-Life Balance#5062, Job Satisfaction#5219, Performance Rating#5372, Overtime#5521, Education Level#5666, Marital Status Indx#2338 AS Marital Status#5807, ... 10 more fields]\n                                                   +- Project [Employee ID#17, Age#18, Years at Company#20, Monthly Income#22, Number of Promotions#26, Distance from Home#28, Number of Dependents#31, Job Level#32, Company Size#33, Company Tenure#34, Remote Work#35, Leadership Opportunities#36, Innovation Opportunities#37, Company Reputation#38, Employee Recognition#39, Attrition#40, Gender#4736, Job Role#4901, Work-Life Balance#5062, Job Satisfaction#5219, Performance Rating#5372, Overtime#5521, Education Level#5666, Marital Status Indx#2338, ... 10 more fields]\n                                                      +- Project [Employee ID#17, Age#18, Years at Company#20, Monthly Income#22, Number of Promotions#26, Distance from Home#28, Marital Status#30, Number of Dependents#31, Job Level#32, Company Size#33, Company Tenure#34, Remote Work#35, Leadership Opportunities#36, Innovation Opportunities#37, Company Reputation#38, Employee Recognition#39, Attrition#40, Gender#4736, Job Role#4901, Work-Life Balance#5062, Job Satisfaction#5219, Performance Rating#5372, Overtime#5521, Education Level Indx#2300 AS Education Level#5666, ... 11 more fields]\n                                                         +- Project [Employee ID#17, Age#18, Years at Company#20, Monthly Income#22, Number of Promotions#26, Distance from Home#28, Marital Status#30, Number of Dependents#31, Job Level#32, Company Size#33, Company Tenure#34, Remote Work#35, Leadership Opportunities#36, Innovation Opportunities#37, Company Reputation#38, Employee Recognition#39, Attrition#40, Gender#4736, Job Role#4901, Work-Life Balance#5062, Job Satisfaction#5219, Performance Rating#5372, Overtime#5521, Education Level Indx#2300, ... 11 more fields]\n                                                            +- Project [Employee ID#17, Age#18, Years at Company#20, Monthly Income#22, Number of Promotions#26, Distance from Home#28, Education Level#29, Marital Status#30, Number of Dependents#31, Job Level#32, Company Size#33, Company Tenure#34, Remote Work#35, Leadership Opportunities#36, Innovation Opportunities#37, Company Reputation#38, Employee Recognition#39, Attrition#40, Gender#4736, Job Role#4901, Work-Life Balance#5062, Job Satisfaction#5219, Performance Rating#5372, Overtime Indx#2263 AS Overtime#5521, ... 12 more fields]\n                                                               +- Project [Employee ID#17, Age#18, Years at Company#20, Monthly Income#22, Number of Promotions#26, Distance from Home#28, Education Level#29, Marital Status#30, Number of Dependents#31, Job Level#32, Company Size#33, Company Tenure#34, Remote Work#35, Leadership Opportunities#36, Innovation Opportunities#37, Company Reputation#38, Employee Recognition#39, Attrition#40, Gender#4736, Job Role#4901, Work-Life Balance#5062, Job Satisfaction#5219, Performance Rating#5372, Overtime Indx#2263, ... 12 more fields]\n                                                                  +- Project [Employee ID#17, Age#18, Years at Company#20, Monthly Income#22, Number of Promotions#26, Overtime#27, Distance from Home#28, Education Level#29, Marital Status#30, Number of Dependents#31, Job Level#32, Company Size#33, Company Tenure#34, Remote Work#35, Leadership Opportunities#36, Innovation Opportunities#37, Company Reputation#38, Employee Recognition#39, Attrition#40, Gender#4736, Job Role#4901, Work-Life Balance#5062, Job Satisfaction#5219, Performance Rating Indx#2227 AS Performance Rating#5372, ... 13 more fields]\n                                                                     +- Project [Employee ID#17, Age#18, Years at Company#20, Monthly Income#22, Number of Promotions#26, Overtime#27, Distance from Home#28, Education Level#29, Marital Status#30, Number of Dependents#31, Job Level#32, Company Size#33, Company Tenure#34, Remote Work#35, Leadership Opportunities#36, Innovation Opportunities#37, Company Reputation#38, Employee Recognition#39, Attrition#40, Gender#4736, Job Role#4901, Work-Life Balance#5062, Job Satisfaction#5219, Performance Rating Indx#2227, ... 13 more fields]\n                                                                        +- Project [Employee ID#17, Age#18, Years at Company#20, Monthly Income#22, Performance Rating#25, Number of Promotions#26, Overtime#27, Distance from Home#28, Education Level#29, Marital Status#30, Number of Dependents#31, Job Level#32, Company Size#33, Company Tenure#34, Remote Work#35, Leadership Opportunities#36, Innovation Opportunities#37, Company Reputation#38, Employee Recognition#39, Attrition#40, Gender#4736, Job Role#4901, Work-Life Balance#5062, Job Satisfaction Indx#2192 AS Job Satisfaction#5219, ... 14 more fields]\n                                                                           +- Project [Employee ID#17, Age#18, Years at Company#20, Monthly Income#22, Performance Rating#25, Number of Promotions#26, Overtime#27, Distance from Home#28, Education Level#29, Marital Status#30, Number of Dependents#31, Job Level#32, Company Size#33, Company Tenure#34, Remote Work#35, Leadership Opportunities#36, Innovation Opportunities#37, Company Reputation#38, Employee Recognition#39, Attrition#40, Gender#4736, Job Role#4901, Work-Life Balance#5062, Job Satisfaction Indx#2192, ... 14 more fields]\n                                                                              +- Project [Employee ID#17, Age#18, Years at Company#20, Monthly Income#22, Job Satisfaction#24, Performance Rating#25, Number of Promotions#26, Overtime#27, Distance from Home#28, Education Level#29, Marital Status#30, Number of Dependents#31, Job Level#32, Company Size#33, Company Tenure#34, Remote Work#35, Leadership Opportunities#36, Innovation Opportunities#37, Company Reputation#38, Employee Recognition#39, Attrition#40, Gender#4736, Job Role#4901, Work-Life Balance Indx#2158 AS Work-Life Balance#5062, ... 15 more fields]\n                                                                                 +- Project [Employee ID#17, Age#18, Years at Company#20, Monthly Income#22, Job Satisfaction#24, Performance Rating#25, Number of Promotions#26, Overtime#27, Distance from Home#28, Education Level#29, Marital Status#30, Number of Dependents#31, Job Level#32, Company Size#33, Company Tenure#34, Remote Work#35, Leadership Opportunities#36, Innovation Opportunities#37, Company Reputation#38, Employee Recognition#39, Attrition#40, Gender#4736, Job Role#4901, Work-Life Balance Indx#2158, ... 15 more fields]\n                                                                                    +- Project [Employee ID#17, Age#18, Years at Company#20, Monthly Income#22, Work-Life Balance#23, Job Satisfaction#24, Performance Rating#25, Number of Promotions#26, Overtime#27, Distance from Home#28, Education Level#29, Marital Status#30, Number of Dependents#31, Job Level#32, Company Size#33, Company Tenure#34, Remote Work#35, Leadership Opportunities#36, Innovation Opportunities#37, Company Reputation#38, Employee Recognition#39, Attrition#40, Gender#4736, Job Role Indx#2125 AS Job Role#4901, ... 16 more fields]\n                                                                                       +- Project [Employee ID#17, Age#18, Years at Company#20, Monthly Income#22, Work-Life Balance#23, Job Satisfaction#24, Performance Rating#25, Number of Promotions#26, Overtime#27, Distance from Home#28, Education Level#29, Marital Status#30, Number of Dependents#31, Job Level#32, Company Size#33, Company Tenure#34, Remote Work#35, Leadership Opportunities#36, Innovation Opportunities#37, Company Reputation#38, Employee Recognition#39, Attrition#40, Gender#4736, Job Role Indx#2125, ... 16 more fields]\n                                                                                          +- Project [Employee ID#17, Age#18, Years at Company#20, Job Role#21, Monthly Income#22, Work-Life Balance#23, Job Satisfaction#24, Performance Rating#25, Number of Promotions#26, Overtime#27, Distance from Home#28, Education Level#29, Marital Status#30, Number of Dependents#31, Job Level#32, Company Size#33, Company Tenure#34, Remote Work#35, Leadership Opportunities#36, Innovation Opportunities#37, Company Reputation#38, Employee Recognition#39, Attrition#40, Gender Indx#2093 AS Gender#4736, ... 17 more fields]\n                                                                                             +- Project [Employee ID#17, Age#18, Years at Company#20, Job Role#21, Monthly Income#22, Work-Life Balance#23, Job Satisfaction#24, Performance Rating#25, Number of Promotions#26, Overtime#27, Distance from Home#28, Education Level#29, Marital Status#30, Number of Dependents#31, Job Level#32, Company Size#33, Company Tenure#34, Remote Work#35, Leadership Opportunities#36, Innovation Opportunities#37, Company Reputation#38, Employee Recognition#39, Attrition#40, Gender Indx#2093, ... 17 more fields]\n                                                                                                +- Project [Employee ID#17, Age#18, Gender#19, Years at Company#20, Job Role#21, Monthly Income#22, Work-Life Balance#23, Job Satisfaction#24, Performance Rating#25, Number of Promotions#26, Overtime#27, Distance from Home#28, Education Level#29, Marital Status#30, Number of Dependents#31, Job Level#32, Company Size#33, Company Tenure#34, Remote Work#35, Leadership Opportunities#36, Innovation Opportunities#37, Company Reputation#38, Employee Recognition#39, Attrition#40, ... 18 more fields]\n                                                                                                   +- Project [Employee ID#17, Age#18, Gender#19, Years at Company#20, Job Role#21, Monthly Income#22, Work-Life Balance#23, Job Satisfaction#24, Performance Rating#25, Number of Promotions#26, Overtime#27, Distance from Home#28, Education Level#29, Marital Status#30, Number of Dependents#31, Job Level#32, Company Size#33, Company Tenure#34, Remote Work#35, Leadership Opportunities#36, Innovation Opportunities#37, Company Reputation#38, Employee Recognition#39, Attrition#40, ... 17 more fields]\n                                                                                                      +- Project [Employee ID#17, Age#18, Gender#19, Years at Company#20, Job Role#21, Monthly Income#22, Work-Life Balance#23, Job Satisfaction#24, Performance Rating#25, Number of Promotions#26, Overtime#27, Distance from Home#28, Education Level#29, Marital Status#30, Number of Dependents#31, Job Level#32, Company Size#33, Company Tenure#34, Remote Work#35, Leadership Opportunities#36, Innovation Opportunities#37, Company Reputation#38, Employee Recognition#39, Attrition#40, ... 16 more fields]\n                                                                                                         +- Project [Employee ID#17, Age#18, Gender#19, Years at Company#20, Job Role#21, Monthly Income#22, Work-Life Balance#23, Job Satisfaction#24, Performance Rating#25, Number of Promotions#26, Overtime#27, Distance from Home#28, Education Level#29, Marital Status#30, Number of Dependents#31, Job Level#32, Company Size#33, Company Tenure#34, Remote Work#35, Leadership Opportunities#36, Innovation Opportunities#37, Company Reputation#38, Employee Recognition#39, Attrition#40, ... 15 more fields]\n                                                                                                            +- Project [Employee ID#17, Age#18, Gender#19, Years at Company#20, Job Role#21, Monthly Income#22, Work-Life Balance#23, Job Satisfaction#24, Performance Rating#25, Number of Promotions#26, Overtime#27, Distance from Home#28, Education Level#29, Marital Status#30, Number of Dependents#31, Job Level#32, Company Size#33, Company Tenure#34, Remote Work#35, Leadership Opportunities#36, Innovation Opportunities#37, Company Reputation#38, Employee Recognition#39, Attrition#40, ... 14 more fields]\n                                                                                                               +- Project [Employee ID#17, Age#18, Gender#19, Years at Company#20, Job Role#21, Monthly Income#22, Work-Life Balance#23, Job Satisfaction#24, Performance Rating#25, Number of Promotions#26, Overtime#27, Distance from Home#28, Education Level#29, Marital Status#30, Number of Dependents#31, Job Level#32, Company Size#33, Company Tenure#34, Remote Work#35, Leadership Opportunities#36, Innovation Opportunities#37, Company Reputation#38, Employee Recognition#39, Attrition#40, ... 13 more fields]\n                                                                                                                  +- Project [Employee ID#17, Age#18, Gender#19, Years at Company#20, Job Role#21, Monthly Income#22, Work-Life Balance#23, Job Satisfaction#24, Performance Rating#25, Number of Promotions#26, Overtime#27, Distance from Home#28, Education Level#29, Marital Status#30, Number of Dependents#31, Job Level#32, Company Size#33, Company Tenure#34, Remote Work#35, Leadership Opportunities#36, Innovation Opportunities#37, Company Reputation#38, Employee Recognition#39, Attrition#40, ... 12 more fields]\n                                                                                                                     +- Project [Employee ID#17, Age#18, Gender#19, Years at Company#20, Job Role#21, Monthly Income#22, Work-Life Balance#23, Job Satisfaction#24, Performance Rating#25, Number of Promotions#26, Overtime#27, Distance from Home#28, Education Level#29, Marital Status#30, Number of Dependents#31, Job Level#32, Company Size#33, Company Tenure#34, Remote Work#35, Leadership Opportunities#36, Innovation Opportunities#37, Company Reputation#38, Employee Recognition#39, Attrition#40, ... 11 more fields]\n                                                                                                                        +- Project [Employee ID#17, Age#18, Gender#19, Years at Company#20, Job Role#21, Monthly Income#22, Work-Life Balance#23, Job Satisfaction#24, Performance Rating#25, Number of Promotions#26, Overtime#27, Distance from Home#28, Education Level#29, Marital Status#30, Number of Dependents#31, Job Level#32, Company Size#33, Company Tenure#34, Remote Work#35, Leadership Opportunities#36, Innovation Opportunities#37, Company Reputation#38, Employee Recognition#39, Attrition#40, ... 10 more fields]\n                                                                                                                           +- Project [Employee ID#17, Age#18, Gender#19, Years at Company#20, Job Role#21, Monthly Income#22, Work-Life Balance#23, Job Satisfaction#24, Performance Rating#25, Number of Promotions#26, Overtime#27, Distance from Home#28, Education Level#29, Marital Status#30, Number of Dependents#31, Job Level#32, Company Size#33, Company Tenure#34, Remote Work#35, Leadership Opportunities#36, Innovation Opportunities#37, Company Reputation#38, Employee Recognition#39, Attrition#40, ... 9 more fields]\n                                                                                                                              +- Project [Employee ID#17, Age#18, Gender#19, Years at Company#20, Job Role#21, Monthly Income#22, Work-Life Balance#23, Job Satisfaction#24, Performance Rating#25, Number of Promotions#26, Overtime#27, Distance from Home#28, Education Level#29, Marital Status#30, Number of Dependents#31, Job Level#32, Company Size#33, Company Tenure#34, Remote Work#35, Leadership Opportunities#36, Innovation Opportunities#37, Company Reputation#38, Employee Recognition#39, Attrition#40, ... 8 more fields]\n                                                                                                                                 +- Project [Employee ID#17, Age#18, Gender#19, Years at Company#20, Job Role#21, Monthly Income#22, Work-Life Balance#23, Job Satisfaction#24, Performance Rating#25, Number of Promotions#26, Overtime#27, Distance from Home#28, Education Level#29, Marital Status#30, Number of Dependents#31, Job Level#32, Company Size#33, Company Tenure#34, Remote Work#35, Leadership Opportunities#36, Innovation Opportunities#37, Company Reputation#38, Employee Recognition#39, Attrition#40, ... 7 more fields]\n                                                                                                                                    +- Project [Employee ID#17, Age#18, Gender#19, Years at Company#20, Job Role#21, Monthly Income#22, Work-Life Balance#23, Job Satisfaction#24, Performance Rating#25, Number of Promotions#26, Overtime#27, Distance from Home#28, Education Level#29, Marital Status#30, Number of Dependents#31, Job Level#32, Company Size#33, Company Tenure#34, Remote Work#35, Leadership Opportunities#36, Innovation Opportunities#37, Company Reputation#38, Employee Recognition#39, Attrition#40, ... 6 more fields]\n                                                                                                                                       +- Project [Employee ID#17, Age#18, Gender#19, Years at Company#20, Job Role#21, Monthly Income#22, Work-Life Balance#23, Job Satisfaction#24, Performance Rating#25, Number of Promotions#26, Overtime#27, Distance from Home#28, Education Level#29, Marital Status#30, Number of Dependents#31, Job Level#32, Company Size#33, Company Tenure#34, Remote Work#35, Leadership Opportunities#36, Innovation Opportunities#37, Company Reputation#38, Employee Recognition#39, Attrition#40, ... 5 more fields]\n                                                                                                                                          +- Project [Employee ID#17, Age#18, Gender#19, Years at Company#20, Job Role#21, Monthly Income#22, Work-Life Balance#23, Job Satisfaction#24, Performance Rating#25, Number of Promotions#26, Overtime#27, Distance from Home#28, Education Level#29, Marital Status#30, Number of Dependents#31, Job Level#32, Company Size#33, Company Tenure#34, Remote Work#35, Leadership Opportunities#36, Innovation Opportunities#37, Company Reputation#38, Employee Recognition#39, Attrition#40, ... 4 more fields]\n                                                                                                                                             +- Project [Employee ID#17, Age#18, Gender#19, Years at Company#20, Job Role#21, Monthly Income#22, Work-Life Balance#23, Job Satisfaction#24, Performance Rating#25, Number of Promotions#26, Overtime#27, Distance from Home#28, Education Level#29, Marital Status#30, Number of Dependents#31, Job Level#32, Company Size#33, Company Tenure#34, Remote Work#35, Leadership Opportunities#36, Innovation Opportunities#37, Company Reputation#38, Employee Recognition#39, Attrition#40, ... 3 more fields]\n                                                                                                                                                +- Project [Employee ID#17, Age#18, Gender#19, Years at Company#20, Job Role#21, Monthly Income#22, Work-Life Balance#23, Job Satisfaction#24, Performance Rating#25, Number of Promotions#26, Overtime#27, Distance from Home#28, Education Level#29, Marital Status#30, Number of Dependents#31, Job Level#32, Company Size#33, Company Tenure#34, Remote Work#35, Leadership Opportunities#36, Innovation Opportunities#37, Company Reputation#38, Employee Recognition#39, Attrition#40, ... 2 more fields]\n                                                                                                                                                   +- Project [Employee ID#17, Age#18, Gender#19, Years at Company#20, Job Role#21, Monthly Income#22, Work-Life Balance#23, Job Satisfaction#24, Performance Rating#25, Number of Promotions#26, Overtime#27, Distance from Home#28, Education Level#29, Marital Status#30, Number of Dependents#31, Job Level#32, Company Size#33, Company Tenure#34, Remote Work#35, Leadership Opportunities#36, Innovation Opportunities#37, Company Reputation#38, Employee Recognition#39, Attrition#40, UDF(cast(Gender#19 as string)) AS Gender Indx#2093]\n                                                                                                                                                      +- Relation [Employee ID#17,Age#18,Gender#19,Years at Company#20,Job Role#21,Monthly Income#22,Work-Life Balance#23,Job Satisfaction#24,Performance Rating#25,Number of Promotions#26,Overtime#27,Distance from Home#28,Education Level#29,Marital Status#30,Number of Dependents#31,Job Level#32,Company Size#33,Company Tenure#34,Remote Work#35,Leadership Opportunities#36,Innovation Opportunities#37,Company Reputation#38,Employee Recognition#39,Attrition#40] csv\n"
     ]
    }
   ],
   "source": [
    "for col_name in temp.columns:\n",
    "    train_df = train_df.withColumn(col_name, temp[col_name])"
   ]
  },
  {
   "cell_type": "code",
   "execution_count": null,
   "metadata": {},
   "outputs": [],
   "source": [
    "train_df.show(10)"
   ]
  },
  {
   "cell_type": "code",
   "execution_count": null,
   "metadata": {},
   "outputs": [],
   "source": [
    "columns_to_drop = ['Employee ID','Age', 'Years at Company', 'Monthly Income', 'Number of Promotions', \n",
    "                      'Distance from Home', 'Number of Dependents', 'Company Tenure', 'numerical_features', 'scaled_numerical_features']\n",
    "\n",
    "for column in columns_to_drop:\n",
    "    train_df = train_df.drop(column)\n",
    "\n",
    "train_df.show(20)"
   ]
  },
  {
   "cell_type": "code",
   "execution_count": null,
   "metadata": {},
   "outputs": [],
   "source": [
    "columns_to_keep = [\n",
    "    'Gender', 'Job Role', 'Work-Life Balance', 'Job Satisfaction', 'Performance Rating', 'Overtime',\n",
    "    'Education Level', 'Marital Status', 'Job Level', 'Company Size', 'Remote Work', 'Leadership Opportunities',\n",
    "    'Innovation Opportunities', 'Company Reputation', 'Employee Recognition', 'Attrition', 'Age Scaled', \n",
    "    'Years at Company Scaled', 'Monthly Income Scaled', 'Number of Promotions Scaled', \n",
    "    'Distance from Home Scaled', 'Number of Dependents Scaled', 'Company Tenure Scaled'\n",
    "    ]\n",
    "\n",
    "# Convert the final PySpark DataFrames (train/test) to Pandas\n",
    "pandas_train_df = train_df.select(columns_to_keep)\n",
    "pandas_train_df.toPandas()\n",
    "#pandas_test_df = test_df.select(columns_to_keep).toPandas()\n",
    "\n",
    "# Extract features and labels for train/test split\n",
    "#X_train = pandas_train_df.drop('Attrition', axis=1)  # Assuming 'Attrition' is the target column\n",
    "#y_train = pandas_train_df['Attrition']  # Target variable (assuming binary classification)\n",
    "\n",
    "#X_test = pandas_test_df.drop('Attrition', axis=1)\n",
    "#y_test = pandas_test_df['Attrition']\n",
    "\n",
    "#print(X_train)"
   ]
  },
  {
   "cell_type": "markdown",
   "metadata": {},
   "source": [
    "### Build and Train the Models"
   ]
  },
  {
   "cell_type": "markdown",
   "metadata": {},
   "source": [
    "K-Nearest Neighbors"
   ]
  },
  {
   "cell_type": "code",
   "execution_count": null,
   "metadata": {},
   "outputs": [],
   "source": [
    "from sklearn.neighbors import KNeighborsClassifier\n",
    "from sklearn.metrics import accuracy_score\n",
    "\n",
    "# Initialize and train the KNN model\n",
    "knn = KNeighborsClassifier(n_neighbors=3)\n",
    "knn.fit(X_train, y_train)\n",
    "\n",
    "# Make predictions\n",
    "#y_pred = knn.predict(X_test)\n",
    "\n",
    "# Evaluate the model\n",
    "#accuracy = accuracy_score(y_test, y_pred)\n",
    "#print(f'Accuracy: {accuracy:.4f}')"
   ]
  },
  {
   "cell_type": "markdown",
   "metadata": {},
   "source": [
    "Logistic Regression"
   ]
  },
  {
   "cell_type": "code",
   "execution_count": null,
   "metadata": {},
   "outputs": [],
   "source": [
    "# Initialize and train the Logistic Regression model"
   ]
  },
  {
   "cell_type": "markdown",
   "metadata": {},
   "source": [
    "Decision Trees"
   ]
  },
  {
   "cell_type": "code",
   "execution_count": null,
   "metadata": {},
   "outputs": [],
   "source": [
    "# Initialize and train the Decision Trees model"
   ]
  }
 ],
 "metadata": {
  "kernelspec": {
   "display_name": "dasc_5410",
   "language": "python",
   "name": "python3"
  },
  "language_info": {
   "codemirror_mode": {
    "name": "ipython",
    "version": 3
   },
   "file_extension": ".py",
   "mimetype": "text/x-python",
   "name": "python",
   "nbconvert_exporter": "python",
   "pygments_lexer": "ipython3",
   "version": "3.11.9"
  }
 },
 "nbformat": 4,
 "nbformat_minor": 2
}
